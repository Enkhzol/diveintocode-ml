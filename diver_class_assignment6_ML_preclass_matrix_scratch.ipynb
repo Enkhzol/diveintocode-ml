{
  "nbformat": 4,
  "nbformat_minor": 0,
  "metadata": {
    "colab": {
      "name": "diver_class_assignment6_ML_preclass_matrix_scratch",
      "provenance": [],
      "authorship_tag": "ABX9TyMEN4w5XzjuBsxUV2lpwmUC",
      "include_colab_link": true
    },
    "kernelspec": {
      "name": "python3",
      "display_name": "Python 3"
    },
    "language_info": {
      "name": "python"
    }
  },
  "cells": [
    {
      "cell_type": "markdown",
      "metadata": {
        "id": "view-in-github",
        "colab_type": "text"
      },
      "source": [
        "<a href=\"https://colab.research.google.com/github/Enkhzol/diveintocode-ml/blob/master/diver_class_assignment6_ML_preclass_matrix_scratch.ipynb\" target=\"_parent\"><img src=\"https://colab.research.google.com/assets/colab-badge.svg\" alt=\"Open In Colab\"/></a>"
      ]
    },
    {
      "cell_type": "markdown",
      "metadata": {
        "id": "7Qkpzo3tf6m3"
      },
      "source": [
        "**[Problem 1] Matrix product is calculated manually**"
      ]
    },
    {
      "cell_type": "code",
      "metadata": {
        "id": "ktnn9zvmf-HL"
      },
      "source": [
        "import numpy as np\n",
        "a_ndarray = np.array([[-1, 2, 3], [4, -5, 6], [7, 8, -9]])\n",
        "b_ndarray = np.array([[0, 2, 1], [0, 2, -8], [2, 9, -1]])"
      ],
      "execution_count": null,
      "outputs": []
    },
    {
      "cell_type": "markdown",
      "metadata": {
        "id": "AKhGWAnugWXP"
      },
      "source": [
        "Each two-dimensional matrix contains three one-dimensional matrices that 1D matrix also consists of 3 elements."
      ]
    },
    {
      "cell_type": "markdown",
      "metadata": {
        "id": "Xqf0D_67iD4i"
      },
      "source": [
        "**[Problem 2] Calculation by NumPy function**"
      ]
    },
    {
      "cell_type": "markdown",
      "metadata": {
        "id": "fYrNSOckirMz"
      },
      "source": [
        "row of matrix A X column of matrix B\n",
        "\n",
        "-1 * 0 + 2 * 0 + 3 * 2 = 6 is written [[**6** , ?, ?][? , ?, ?][? , ?, ?]] \n",
        "\n",
        "-1 * 2 + 2 * 2 + 3 * 9 = 29 is written [[6 , **29**, ?][? , ?, ?][? , ?, ?]]\n",
        "\n",
        "The following multiplication are similar."
      ]
    },
    {
      "cell_type": "code",
      "metadata": {
        "colab": {
          "base_uri": "https://localhost:8080/"
        },
        "id": "4wAzut7JiG92",
        "outputId": "e1b2dbec-959c-40d0-d981-18921ad94f77"
      },
      "source": [
        "import numpy as np\n",
        "a_ndarray = np.array([[-1, 2, 3], [4, -5, 6], [7, 8, -9]])\n",
        "b_ndarray = np.array([[0, 2, 1], [0, 2, -8], [2, 9, -1]])\n",
        "\n",
        "c_ndarray = np.matmul(a_ndarray, b_ndarray)\n",
        "print(c_ndarray)\n",
        "\n",
        "d_ndarray = np.dot(a_ndarray, b_ndarray)\n",
        "print(d_ndarray)"
      ],
      "execution_count": null,
      "outputs": [
        {
          "output_type": "stream",
          "text": [
            "[[  6  29 -20]\n",
            " [ 12  52  38]\n",
            " [-18 -51 -48]]\n",
            "[[  6  29 -20]\n",
            " [ 12  52  38]\n",
            " [-18 -51 -48]]\n"
          ],
          "name": "stdout"
        }
      ]
    },
    {
      "cell_type": "markdown",
      "metadata": {
        "id": "uMPLc1Xgk9FL"
      },
      "source": [
        "**[Problem 3] Implementation of calculation of a certain element**"
      ]
    },
    {
      "cell_type": "code",
      "metadata": {
        "colab": {
          "base_uri": "https://localhost:8080/"
        },
        "id": "8Fx19UyHk98G",
        "outputId": "875dad24-3e78-4ee0-ac99-334ca9f35616"
      },
      "source": [
        "a_ndarray = np.array([[-1, 2, 3], [4, -5, 6], [7, 8, -9]])\n",
        "b_ndarray = np.array([[0, 2, 1], [0, 2, -8], [2, 9, -1]])\n",
        "\n",
        "c_ndarray = np.array([[0, 0, 0], [0, 0, 0], [0, 0, 0]])\n",
        "\n",
        "for i in range(len(a_ndarray)):\n",
        "   for j in range(len(b_ndarray[0])):\n",
        "       for k in range(len(b_ndarray)):\n",
        "           c_ndarray[i][j] += a_ndarray[i][k] * b_ndarray[k][j]\n",
        "\n",
        "print(c_ndarray)"
      ],
      "execution_count": 19,
      "outputs": [
        {
          "output_type": "stream",
          "text": [
            "[[  6  29 -20]\n",
            " [ 12  52  38]\n",
            " [-18 -51 -48]]\n"
          ],
          "name": "stdout"
        }
      ]
    },
    {
      "cell_type": "markdown",
      "metadata": {
        "id": "HUDFDaOA7bgo"
      },
      "source": [
        "**[Problem 4] Creating a function that performs matrix multiplication**"
      ]
    },
    {
      "cell_type": "code",
      "metadata": {
        "colab": {
          "base_uri": "https://localhost:8080/"
        },
        "id": "aWeePzPR7dt7",
        "outputId": "a527e2e5-9f71-459b-ceef-64d482ab9857"
      },
      "source": [
        "import numpy as np\n",
        "\n",
        "def mul_matrices(a, b):\n",
        "  c = np.array([[0, 0, 0], [0, 0, 0], [0, 0, 0]])\n",
        "\n",
        "  for i in range(len(a)):\n",
        "    for j in range(len(b[0])):\n",
        "        for k in range(len(b)):\n",
        "            c[i][j] += a[i][k] * b[k][j]\n",
        "  return c\n",
        "\n",
        "d_ndarray_ = np.array([[-1, 2, 3], [4, -5, 6], [0, 0, 0]])\n",
        "e_ndarray = np.array([[-9, 8, 7], [6, -5, 4], [0, 0, 0]])\n",
        "\n",
        "c1 = mul_matrices(d_ndarray_, e_ndarray)\n",
        "print(c1)\n"
      ],
      "execution_count": 32,
      "outputs": [
        {
          "output_type": "stream",
          "text": [
            "[[ 21 -18   1]\n",
            " [-66  57   8]\n",
            " [  0   0   0]]\n"
          ],
          "name": "stdout"
        }
      ]
    },
    {
      "cell_type": "markdown",
      "metadata": {
        "id": "wFN9mEidJwb6"
      },
      "source": [
        "**[Problem 5] Judge the input whose calculation is not defined**"
      ]
    },
    {
      "cell_type": "code",
      "metadata": {
        "colab": {
          "base_uri": "https://localhost:8080/"
        },
        "id": "2V7nmuixJzJY",
        "outputId": "467e797b-1c72-48c4-a391-b71e18c94864"
      },
      "source": [
        "import numpy as np\n",
        "\n",
        "def mul_matrices(a, b):\n",
        "  c = np.array([[0, 0, 0], [0, 0, 0]])\n",
        "\n",
        "  for i in range(len(a)):\n",
        "    for j in range(len(b[0])):\n",
        "        for k in range(len(b)):\n",
        "            c[i][j] += a[i][k] * b[k][j]\n",
        "  return c\n",
        "\n",
        "d_ndarray_ = np.array([[-1, 2, 3], [4, -5, 6]])\n",
        "e_ndarray = np.array([[-9, 8, 7], [6, -5, 4]])\n",
        "\n",
        "c1 = mul_matrices(d_ndarray_, e_ndarray)\n",
        "print(c1)"
      ],
      "execution_count": 36,
      "outputs": [
        {
          "output_type": "stream",
          "text": [
            "[[ 21 -18   1]\n",
            " [-66  57   8]]\n"
          ],
          "name": "stdout"
        }
      ]
    },
    {
      "cell_type": "markdown",
      "metadata": {
        "id": "OZZynd04Kemz"
      },
      "source": [
        "**[Problem 6] Transposition**"
      ]
    },
    {
      "cell_type": "code",
      "metadata": {
        "colab": {
          "base_uri": "https://localhost:8080/"
        },
        "id": "GmlgseEYKiuC",
        "outputId": "bc14fe68-8e0a-49a9-a517-c3f26ae6121f"
      },
      "source": [
        "import numpy as np\n",
        "\n",
        "def mul_matrices(a, b):\n",
        "  c = np.array([[0, 0, 0], [0, 0, 0]])\n",
        "\n",
        "  for i in range(len(a)):\n",
        "    for j in range(len(b[0])):\n",
        "        for k in range(len(b)):\n",
        "            c[i][j] += a[i][k] * b[k][j]\n",
        "  return c\n",
        "\n",
        "d_ndarray_ = np.array([[-1, 2, 3], [4, -5, 6]])\n",
        "e_ndarray = np.array([[-9, 8, 7], [6, -5, 4]])\n",
        "#e_ndarray = np.transpose(e_ndarray)\n",
        "e_ndarray = e_ndarray.T\n",
        "print(e_ndarray)\n",
        "\n",
        "c1 = mul_matrices(d_ndarray_, e_ndarray)\n",
        "print(c1)"
      ],
      "execution_count": 43,
      "outputs": [
        {
          "output_type": "stream",
          "text": [
            "[[-9  6]\n",
            " [ 8 -5]\n",
            " [ 7  4]]\n",
            "[[ 46  -4   0]\n",
            " [-34  73   0]]\n"
          ],
          "name": "stdout"
        }
      ]
    },
    {
      "cell_type": "code",
      "metadata": {
        "id": "73yMiNvr82Sq"
      },
      "source": [
        ""
      ],
      "execution_count": 16,
      "outputs": []
    }
  ]
}