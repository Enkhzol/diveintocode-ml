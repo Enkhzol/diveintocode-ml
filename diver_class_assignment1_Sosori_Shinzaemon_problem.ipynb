{
  "nbformat": 4,
  "nbformat_minor": 0,
  "metadata": {
    "colab": {
      "name": "diver_class_assignment1_Sosori_Shinzaemon_problem.ipynb",
      "provenance": [],
      "collapsed_sections": [],
      "authorship_tag": "ABX9TyO8+qcN8WGCLye0sFmSEpce",
      "include_colab_link": true
    },
    "kernelspec": {
      "name": "python3",
      "display_name": "Python 3"
    }
  },
  "cells": [
    {
      "cell_type": "markdown",
      "metadata": {
        "id": "view-in-github",
        "colab_type": "text"
      },
      "source": [
        "<a href=\"https://colab.research.google.com/github/Enkhzol/diveintocode-ml/blob/master/diver_class_assignment1_Sosori_Shinzaemon_problem.ipynb\" target=\"_parent\"><img src=\"https://colab.research.google.com/assets/colab-badge.svg\" alt=\"Open In Colab\"/></a>"
      ]
    },
    {
      "cell_type": "code",
      "metadata": {
        "id": "SPrWAKc2H6l7"
      },
      "source": [
        ""
      ],
      "execution_count": null,
      "outputs": []
    },
    {
      "cell_type": "markdown",
      "metadata": {
        "id": "dPj5dOhjLZ7F"
      },
      "source": [
        "【Problem 1] Number of grains of rice on the 100th day"
      ]
    },
    {
      "cell_type": "code",
      "metadata": {
        "colab": {
          "base_uri": "https://localhost:8080/",
          "height": 400
        },
        "id": "tzf2vJlrLcAi",
        "outputId": "85bfa1fe-01a6-4c89-fc39-2e58326880d0"
      },
      "source": [
        "import matplotlib.pyplot as plt\r\n",
        "%matplotlib inline\r\n",
        "\r\n",
        "grains_of_rice = 1\r\n",
        "grains_per_day = list()\r\n",
        "grains_total = list()\r\n",
        "sum = 0\r\n",
        "for i in range(100):\r\n",
        "  grains_of_rice = grains_of_rice * 2\r\n",
        "  sum = sum + grains_of_rice\r\n",
        "  grains_per_day.append(grains_of_rice)\r\n",
        "  grains_total.append(sum)\r\n",
        "\r\n",
        "print(\"Rice on 100th day = \" ,grains_of_rice)\r\n",
        "\r\n",
        "print(\"grains_per_day count = \", len(grains_per_day))\r\n",
        "print(grains_per_day)\r\n",
        "\r\n",
        "print(\"grains_total count = \", len(grains_total))\r\n",
        "print(grains_total)\r\n",
        "\r\n",
        "plt.title(\"grains of rice\")\r\n",
        "plt.xlabel(\"number of days\")\r\n",
        "plt.ylabel(\"number of rice\")\r\n",
        "\r\n",
        "plt.tick_params(labelsize=10)\r\n",
        "plt.plot(grains_per_day, color='blue', label = \"count of each day\")\r\n",
        "plt.plot(grains_total, color='red', label = \"cumulative\")\r\n",
        "plt.legend()\r\n",
        "plt.show()"
      ],
      "execution_count": 15,
      "outputs": [
        {
          "output_type": "stream",
          "text": [
            "Rice on 100th day =  1267650600228229401496703205376\n",
            "grains_per_day count =  100\n",
            "[2, 4, 8, 16, 32, 64, 128, 256, 512, 1024, 2048, 4096, 8192, 16384, 32768, 65536, 131072, 262144, 524288, 1048576, 2097152, 4194304, 8388608, 16777216, 33554432, 67108864, 134217728, 268435456, 536870912, 1073741824, 2147483648, 4294967296, 8589934592, 17179869184, 34359738368, 68719476736, 137438953472, 274877906944, 549755813888, 1099511627776, 2199023255552, 4398046511104, 8796093022208, 17592186044416, 35184372088832, 70368744177664, 140737488355328, 281474976710656, 562949953421312, 1125899906842624, 2251799813685248, 4503599627370496, 9007199254740992, 18014398509481984, 36028797018963968, 72057594037927936, 144115188075855872, 288230376151711744, 576460752303423488, 1152921504606846976, 2305843009213693952, 4611686018427387904, 9223372036854775808, 18446744073709551616, 36893488147419103232, 73786976294838206464, 147573952589676412928, 295147905179352825856, 590295810358705651712, 1180591620717411303424, 2361183241434822606848, 4722366482869645213696, 9444732965739290427392, 18889465931478580854784, 37778931862957161709568, 75557863725914323419136, 151115727451828646838272, 302231454903657293676544, 604462909807314587353088, 1208925819614629174706176, 2417851639229258349412352, 4835703278458516698824704, 9671406556917033397649408, 19342813113834066795298816, 38685626227668133590597632, 77371252455336267181195264, 154742504910672534362390528, 309485009821345068724781056, 618970019642690137449562112, 1237940039285380274899124224, 2475880078570760549798248448, 4951760157141521099596496896, 9903520314283042199192993792, 19807040628566084398385987584, 39614081257132168796771975168, 79228162514264337593543950336, 158456325028528675187087900672, 316912650057057350374175801344, 633825300114114700748351602688, 1267650600228229401496703205376]\n",
            "grains_total count =  100\n",
            "[2, 6, 14, 30, 62, 126, 254, 510, 1022, 2046, 4094, 8190, 16382, 32766, 65534, 131070, 262142, 524286, 1048574, 2097150, 4194302, 8388606, 16777214, 33554430, 67108862, 134217726, 268435454, 536870910, 1073741822, 2147483646, 4294967294, 8589934590, 17179869182, 34359738366, 68719476734, 137438953470, 274877906942, 549755813886, 1099511627774, 2199023255550, 4398046511102, 8796093022206, 17592186044414, 35184372088830, 70368744177662, 140737488355326, 281474976710654, 562949953421310, 1125899906842622, 2251799813685246, 4503599627370494, 9007199254740990, 18014398509481982, 36028797018963966, 72057594037927934, 144115188075855870, 288230376151711742, 576460752303423486, 1152921504606846974, 2305843009213693950, 4611686018427387902, 9223372036854775806, 18446744073709551614, 36893488147419103230, 73786976294838206462, 147573952589676412926, 295147905179352825854, 590295810358705651710, 1180591620717411303422, 2361183241434822606846, 4722366482869645213694, 9444732965739290427390, 18889465931478580854782, 37778931862957161709566, 75557863725914323419134, 151115727451828646838270, 302231454903657293676542, 604462909807314587353086, 1208925819614629174706174, 2417851639229258349412350, 4835703278458516698824702, 9671406556917033397649406, 19342813113834066795298814, 38685626227668133590597630, 77371252455336267181195262, 154742504910672534362390526, 309485009821345068724781054, 618970019642690137449562110, 1237940039285380274899124222, 2475880078570760549798248446, 4951760157141521099596496894, 9903520314283042199192993790, 19807040628566084398385987582, 39614081257132168796771975166, 79228162514264337593543950334, 158456325028528675187087900670, 316912650057057350374175801342, 633825300114114700748351602686, 1267650600228229401496703205374, 2535301200456458802993406410750]\n"
          ],
          "name": "stdout"
        },
        {
          "output_type": "display_data",
          "data": {
            "image/png": "[encoded data removed]",
            "text/plain": [
              "<Figure size 432x288 with 1 Axes>"
            ]
          },
          "metadata": {
            "tags": [],
            "needs_background": "light"
          }
        }
      ]
    },
    {
      "cell_type": "markdown",
      "metadata": {
        "id": "l2JYZspSR_Al"
      },
      "source": [
        "【Problem 2] Number of rice grains outside of the N-th day"
      ]
    },
    {
      "cell_type": "code",
      "metadata": {
        "colab": {
          "base_uri": "https://localhost:8080/",
          "height": 312
        },
        "id": "pHhVEx2YLccn",
        "outputId": "523798be-87b4-471e-b6d5-25f1f7eef293"
      },
      "source": [
        "def compute_sorori_shinzaemon(day=100):\r\n",
        "    \"\"\"\r\n",
        "    A function that verifies the anecdote of rice by Sorori Shinzaemon. Calculate the number of rice grains per day.\r\n",
        "    Parameteres\r\n",
        "    --------------\r\n",
        "    day: int\r\n",
        "        Number of days to get rice (default : 100)\r\n",
        "    Returns\r\n",
        "    --------------\r\n",
        "    list_n_grains : list\r\n",
        "        List of the number of rice you get one day (the length of the list is equal to day)\r\n",
        "    list_total_grains : list\r\n",
        "        List of the total number of rice you will receive by a certain day (the length of the list will be equal to day)\r\n",
        "    \"\"\"\r\n",
        "    grains_of_rice = 1\r\n",
        "    grains_per_day = list()\r\n",
        "    grains_total = list()\r\n",
        "    sum = 0\r\n",
        "    for i in range(day):\r\n",
        "      grains_of_rice = grains_of_rice * 2\r\n",
        "      sum = sum + grains_of_rice\r\n",
        "      grains_per_day.append(grains_of_rice)\r\n",
        "      grains_total.append(sum)\r\n",
        "\r\n",
        "    pass\r\n",
        "    return grains_per_day, grains_total\r\n",
        "\r\n",
        "list_n_grains, list_total_grains = compute_sorori_shinzaemon(90)\r\n",
        "\r\n",
        "print(\"Rice in during the course: \", list_total_grains[len(list_total_grains)-1])\r\n",
        "\r\n",
        "plt.title(\"grains of rice\")\r\n",
        "plt.xlabel(\"number of days\")\r\n",
        "plt.ylabel(\"number of rice\")\r\n",
        "\r\n",
        "plt.tick_params(labelsize=10)\r\n",
        "plt.plot(list_n_grains, color='blue', label = \"count of each day\")\r\n",
        "plt.plot(list_total_grains, color='red', label = \"cumulative\")\r\n",
        "plt.legend()\r\n",
        "plt.show()"
      ],
      "execution_count": 19,
      "outputs": [
        {
          "output_type": "stream",
          "text": [
            "Rice in during the course:  2475880078570760549798248446\n"
          ],
          "name": "stdout"
        },
        {
          "output_type": "display_data",
          "data": {
            "image/png": "[encoded data removed]",
            "text/plain": [
              "<Figure size 432x288 with 1 Axes>"
            ]
          },
          "metadata": {
            "tags": [],
            "needs_background": "light"
          }
        }
      ]
    },
    {
      "cell_type": "markdown",
      "metadata": {
        "id": "RoyQjd0mTaLJ"
      },
      "source": [
        "【Problem 3] How many people can live for how many days with the rice we get?"
      ]
    },
    {
      "cell_type": "code",
      "metadata": {
        "colab": {
          "base_uri": "https://localhost:8080/"
        },
        "id": "tKVFdbAKTbem",
        "outputId": "0329aa68-5183-489f-f96d-cd2763aab573"
      },
      "source": [
        "def get_number_days_live(number_of_rice_grains, number_people, eat_rice_day = 300):\r\n",
        "    \r\n",
        "    days = int(number_of_rice_grains / (number_people * eat_rice_day))\r\n",
        "\r\n",
        "    pass\r\n",
        "    return days\r\n",
        "\r\n",
        "days = get_number_days_live(65536, 10)\r\n",
        "\r\n",
        "print(\"10 people can live for {} days with 65536 rice.\".format(days))"
      ],
      "execution_count": 25,
      "outputs": [
        {
          "output_type": "stream",
          "text": [
            "10 people can live for 21 days with 65536 rice.\n"
          ],
          "name": "stdout"
        }
      ]
    }
  ]
}