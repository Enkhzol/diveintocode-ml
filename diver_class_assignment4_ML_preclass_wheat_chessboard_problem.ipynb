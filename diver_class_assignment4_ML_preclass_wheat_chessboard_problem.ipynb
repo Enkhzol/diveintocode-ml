{
  "nbformat": 4,
  "nbformat_minor": 0,
  "metadata": {
    "colab": {
      "name": "diver_class_assignment4_ML_preclass_wheat_chessboard_problem.ipynb",
      "provenance": [],
      "collapsed_sections": [],
      "authorship_tag": "ABX9TyMiIz7OZgZlUkAPwapdX6Cn",
      "include_colab_link": true
    },
    "kernelspec": {
      "name": "python3",
      "display_name": "Python 3"
    }
  },
  "cells": [
    {
      "cell_type": "markdown",
      "metadata": {
        "id": "view-in-github",
        "colab_type": "text"
      },
      "source": [
        "<a href=\"https://colab.research.google.com/github/Enkhzol/diveintocode-ml/blob/master/diver_class_assignment4_ML_preclass_wheat_chessboard_problem.ipynb\" target=\"_parent\"><img src=\"https://colab.research.google.com/assets/colab-badge.svg\" alt=\"Open In Colab\"/></a>"
      ]
    },
    {
      "cell_type": "markdown",
      "metadata": {
        "id": "j81ETNqaB7eS"
      },
      "source": [
        "**[Problem 1] Number of wheat on a 2 x 2 square chess board**"
      ]
    },
    {
      "cell_type": "code",
      "metadata": {
        "colab": {
          "base_uri": "https://localhost:8080/"
        },
        "id": "V6YrtmzmB8J0",
        "outputId": "e0a9cb07-93bc-4eba-841e-a2335222457b"
      },
      "source": [
        "import numpy as np\r\n",
        "\r\n",
        "n_squares = 4\r\n",
        "small_board_list = [1]\r\n",
        "for _ in range(n_squares - 1):\r\n",
        "    small_board_list.append(2*small_board_list[-1])\r\n",
        "small_board_ndarray = np.array(small_board_list)\r\n",
        "print(\"Arrange wheat on a plate of 4 squares (ndarray)：{}\".format(small_board_ndarray))\r\n",
        "\r\n",
        "small_board_ndarray = small_board_ndarray.reshape(2,2)\r\n",
        "print(\"Reshaped 2D numpy array：{}\".format(small_board_ndarray))\r\n"
      ],
      "execution_count": 7,
      "outputs": [
        {
          "output_type": "stream",
          "text": [
            "Arrange wheat on a plate of 4 squares (ndarray)：[1 2 4 8]\n",
            "Reshaped 2D numpy array：[[1 2]\n",
            " [4 8]]\n"
          ],
          "name": "stdout"
        }
      ]
    },
    {
      "cell_type": "markdown",
      "metadata": {
        "id": "Fi_8BbCUCyyM"
      },
      "source": [
        "**[Problem 2] Expansion to n × m mass**"
      ]
    },
    {
      "cell_type": "code",
      "metadata": {
        "colab": {
          "base_uri": "https://localhost:8080/"
        },
        "id": "4pA5-HUzCU8i",
        "outputId": "7de0a5fe-ea6f-47a9-e25f-1ee604290989"
      },
      "source": [
        "import numpy as np\r\n",
        "\r\n",
        "n_squares = 8\r\n",
        "\r\n",
        "def arr_wheat_chessboard(n_squares):\r\n",
        "  small_board_list = [1]\r\n",
        "  for _ in range(n_squares * n_squares - 1):\r\n",
        "      small_board_list.append(2*small_board_list[-1])\r\n",
        "\r\n",
        "  small_board_ndarray = np.array(small_board_list)\r\n",
        "\r\n",
        "  small_board_ndarray = small_board_ndarray.reshape(n_squares, n_squares)\r\n",
        "\r\n",
        "  return small_board_ndarray\r\n",
        "\r\n",
        "small_board_ndarray = arr_wheat_chessboard(n_squares)\r\n",
        "\r\n",
        "print(\"Arrange wheat on a plate of N squares (ndarray)：{}\".format(small_board_ndarray))\r\n",
        "\r\n",
        "\r\n"
      ],
      "execution_count": 115,
      "outputs": [
        {
          "output_type": "stream",
          "text": [
            "Arrange wheat on a plate of N squares (ndarray)：[[1.00000000e+00 2.00000000e+00 4.00000000e+00 8.00000000e+00\n",
            "  1.60000000e+01 3.20000000e+01 6.40000000e+01 1.28000000e+02]\n",
            " [2.56000000e+02 5.12000000e+02 1.02400000e+03 2.04800000e+03\n",
            "  4.09600000e+03 8.19200000e+03 1.63840000e+04 3.27680000e+04]\n",
            " [6.55360000e+04 1.31072000e+05 2.62144000e+05 5.24288000e+05\n",
            "  1.04857600e+06 2.09715200e+06 4.19430400e+06 8.38860800e+06]\n",
            " [1.67772160e+07 3.35544320e+07 6.71088640e+07 1.34217728e+08\n",
            "  2.68435456e+08 5.36870912e+08 1.07374182e+09 2.14748365e+09]\n",
            " [4.29496730e+09 8.58993459e+09 1.71798692e+10 3.43597384e+10\n",
            "  6.87194767e+10 1.37438953e+11 2.74877907e+11 5.49755814e+11]\n",
            " [1.09951163e+12 2.19902326e+12 4.39804651e+12 8.79609302e+12\n",
            "  1.75921860e+13 3.51843721e+13 7.03687442e+13 1.40737488e+14]\n",
            " [2.81474977e+14 5.62949953e+14 1.12589991e+15 2.25179981e+15\n",
            "  4.50359963e+15 9.00719925e+15 1.80143985e+16 3.60287970e+16]\n",
            " [7.20575940e+16 1.44115188e+17 2.88230376e+17 5.76460752e+17\n",
            "  1.15292150e+18 2.30584301e+18 4.61168602e+18 9.22337204e+18]]\n"
          ],
          "name": "stdout"
        }
      ]
    },
    {
      "cell_type": "markdown",
      "metadata": {
        "id": "slH58R-dEept"
      },
      "source": [
        "**[Problem 3] Total number of wheat**"
      ]
    },
    {
      "cell_type": "code",
      "metadata": {
        "colab": {
          "base_uri": "https://localhost:8080/",
          "height": 621
        },
        "id": "FcyX6Wk_EjUY",
        "outputId": "2a97398d-86d2-4f07-8345-f1aaf2db2c43"
      },
      "source": [
        "import numpy as np\r\n",
        "import matplotlib.pyplot as plt\r\n",
        "%matplotlib inline\r\n",
        "\r\n",
        "n_squares = 8\r\n",
        "#n_squares = 4\r\n",
        "\r\n",
        "def arr_wheat_chessboard(n_squares):\r\n",
        "  small_board_list = [1]\r\n",
        "  for _ in range(n_squares * n_squares - 1):\r\n",
        "      small_board_list.append(2*small_board_list[-1])\r\n",
        "\r\n",
        "  small_board_ndarray = np.array(small_board_list)\r\n",
        "\r\n",
        "  small_board_ndarray = small_board_ndarray.reshape(n_squares, n_squares)\r\n",
        "\r\n",
        "  return small_board_ndarray\r\n",
        "\r\n",
        "small_board_ndarray = arr_wheat_chessboard(n_squares)\r\n",
        "\r\n",
        "each_col_sum = []\r\n",
        "\r\n",
        "for i in range(n_squares):\r\n",
        "  each_col_sum.append(0)\r\n",
        "  for j in range(n_squares):\r\n",
        "    each_col_sum[i] = each_col_sum[i] + small_board_ndarray[j][i]\r\n",
        "\r\n",
        "print(\"Arrange wheat on a plate of N squares (ndarray)：{}\".format(small_board_ndarray))\r\n",
        "\r\n",
        "print(\"SUM of wheat = \", small_board_ndarray.sum())\r\n",
        "\r\n",
        "print(\"each_col_sum：{}\".format(each_col_sum))\r\n",
        "\r\n",
        "plt.xlabel(\"column\")\r\n",
        "plt.ylabel(\"number\")\r\n",
        "plt.title(\"wheat in each column\")\r\n",
        "plt.bar(np.arange(1, len(each_col_sum) + 1) , each_col_sum)\r\n",
        "plt.show()\r\n",
        "\r\n",
        "\r\n"
      ],
      "execution_count": 43,
      "outputs": [
        {
          "output_type": "stream",
          "text": [
            "Arrange wheat on a plate of N squares (ndarray)：[[1.00000000e+00 2.00000000e+00 4.00000000e+00 8.00000000e+00\n",
            "  1.60000000e+01 3.20000000e+01 6.40000000e+01 1.28000000e+02]\n",
            " [2.56000000e+02 5.12000000e+02 1.02400000e+03 2.04800000e+03\n",
            "  4.09600000e+03 8.19200000e+03 1.63840000e+04 3.27680000e+04]\n",
            " [6.55360000e+04 1.31072000e+05 2.62144000e+05 5.24288000e+05\n",
            "  1.04857600e+06 2.09715200e+06 4.19430400e+06 8.38860800e+06]\n",
            " [1.67772160e+07 3.35544320e+07 6.71088640e+07 1.34217728e+08\n",
            "  2.68435456e+08 5.36870912e+08 1.07374182e+09 2.14748365e+09]\n",
            " [4.29496730e+09 8.58993459e+09 1.71798692e+10 3.43597384e+10\n",
            "  6.87194767e+10 1.37438953e+11 2.74877907e+11 5.49755814e+11]\n",
            " [1.09951163e+12 2.19902326e+12 4.39804651e+12 8.79609302e+12\n",
            "  1.75921860e+13 3.51843721e+13 7.03687442e+13 1.40737488e+14]\n",
            " [2.81474977e+14 5.62949953e+14 1.12589991e+15 2.25179981e+15\n",
            "  4.50359963e+15 9.00719925e+15 1.80143985e+16 3.60287970e+16]\n",
            " [7.20575940e+16 1.44115188e+17 2.88230376e+17 5.76460752e+17\n",
            "  1.15292150e+18 2.30584301e+18 4.61168602e+18 9.22337204e+18]]\n",
            "SUM of wheat =  1.8446744073709552e+19\n",
            "each_col_sum：[7.234017283807667e+16, 1.4468034567615334e+17, 2.893606913523067e+17, 5.787213827046134e+17, 1.1574427654092268e+18, 2.3148855308184535e+18, 4.629771061636907e+18, 9.259542123273814e+18]\n"
          ],
          "name": "stdout"
        },
        {
          "output_type": "display_data",
          "data": {
            "image/png": "[encoded data removed]",
            "text/plain": [
              "<Figure size 432x288 with 1 Axes>"
            ]
          },
          "metadata": {
            "tags": [],
            "needs_background": "light"
          }
        }
      ]
    },
    {
      "cell_type": "markdown",
      "metadata": {
        "id": "nIoMd3WcKrsG"
      },
      "source": [
        "**[Problem 4] Heat map of the number of wheat**"
      ]
    },
    {
      "cell_type": "code",
      "metadata": {
        "colab": {
          "base_uri": "https://localhost:8080/",
          "height": 567
        },
        "id": "PBYz66z-KugE",
        "outputId": "e2169401-effc-44b4-d558-4c237a1e2505"
      },
      "source": [
        "print(\"Arrange wheat on a plate of N squares (ndarray)：{}\".format(small_board_ndarray))\r\n",
        "\r\n",
        "plt.xlabel(\"column\")\r\n",
        "plt.ylabel(\"row\")\r\n",
        "plt.title(\"heatmap\")\r\n",
        "plt.pcolor(small_board_ndarray)\r\n",
        "plt.show()"
      ],
      "execution_count": 46,
      "outputs": [
        {
          "output_type": "stream",
          "text": [
            "Arrange wheat on a plate of N squares (ndarray)：[[1.00000000e+00 2.00000000e+00 4.00000000e+00 8.00000000e+00\n",
            "  1.60000000e+01 3.20000000e+01 6.40000000e+01 1.28000000e+02]\n",
            " [2.56000000e+02 5.12000000e+02 1.02400000e+03 2.04800000e+03\n",
            "  4.09600000e+03 8.19200000e+03 1.63840000e+04 3.27680000e+04]\n",
            " [6.55360000e+04 1.31072000e+05 2.62144000e+05 5.24288000e+05\n",
            "  1.04857600e+06 2.09715200e+06 4.19430400e+06 8.38860800e+06]\n",
            " [1.67772160e+07 3.35544320e+07 6.71088640e+07 1.34217728e+08\n",
            "  2.68435456e+08 5.36870912e+08 1.07374182e+09 2.14748365e+09]\n",
            " [4.29496730e+09 8.58993459e+09 1.71798692e+10 3.43597384e+10\n",
            "  6.87194767e+10 1.37438953e+11 2.74877907e+11 5.49755814e+11]\n",
            " [1.09951163e+12 2.19902326e+12 4.39804651e+12 8.79609302e+12\n",
            "  1.75921860e+13 3.51843721e+13 7.03687442e+13 1.40737488e+14]\n",
            " [2.81474977e+14 5.62949953e+14 1.12589991e+15 2.25179981e+15\n",
            "  4.50359963e+15 9.00719925e+15 1.80143985e+16 3.60287970e+16]\n",
            " [7.20575940e+16 1.44115188e+17 2.88230376e+17 5.76460752e+17\n",
            "  1.15292150e+18 2.30584301e+18 4.61168602e+18 9.22337204e+18]]\n"
          ],
          "name": "stdout"
        },
        {
          "output_type": "display_data",
          "data": {
            "image/png": "[encoded data removed]",
            "text/plain": [
              "<Figure size 432x288 with 1 Axes>"
            ]
          },
          "metadata": {
            "tags": [],
            "needs_background": "light"
          }
        }
      ]
    },
    {
      "cell_type": "markdown",
      "metadata": {
        "id": "SxAzk7RhM8Lm"
      },
      "source": [
        "**[Problem 5] How many times is the second half as long as the first half?**"
      ]
    },
    {
      "cell_type": "code",
      "metadata": {
        "colab": {
          "base_uri": "https://localhost:8080/"
        },
        "id": "FiotMjpONxOb",
        "outputId": "f0677f81-c66f-430d-f42e-b27a61a99745"
      },
      "source": [
        "import numpy as np\r\n",
        "\r\n",
        "n_squares = 8\r\n",
        "\r\n",
        "def arr_wheat_chessboard(n_squares):\r\n",
        "  small_board_list = [1]\r\n",
        "  for _ in range(n_squares * n_squares - 1):\r\n",
        "      small_board_list.append(2*small_board_list[-1])\r\n",
        "\r\n",
        "  small_board_ndarray = np.array(small_board_list)\r\n",
        "\r\n",
        "  small_board_ndarray = small_board_ndarray.reshape(n_squares, n_squares)\r\n",
        "\r\n",
        "  return small_board_ndarray\r\n",
        "\r\n",
        "small_board_ndarray = arr_wheat_chessboard(n_squares)\r\n",
        "\r\n",
        "print(\"Arrange wheat on a plate of N squares (ndarray)：{}\".format(small_board_ndarray))\r\n",
        "\r\n",
        "i = 1\r\n",
        "while (i < n_squares/2):\r\n",
        "  small_board_ndarray[0] = small_board_ndarray[0] + small_board_ndarray[i]\r\n",
        "  i = i + 1\r\n",
        "\r\n",
        "print(\"First half: \")\r\n",
        "print(small_board_ndarray[0])\r\n",
        "\r\n",
        "half = int(n_squares/2)\r\n",
        "i =  half + 1\r\n",
        "while (i < n_squares):\r\n",
        "  small_board_ndarray[half] = small_board_ndarray[half] + small_board_ndarray[i]\r\n",
        "  i = i + 1\r\n",
        "\r\n",
        "print(\"second half: \")\r\n",
        "print(small_board_ndarray[half])\r\n",
        "\r\n",
        "print(\" The second half {} times greater then the first half.\".format(sum(small_board_ndarray[half]) / sum(small_board_ndarray[0])))\r\n"
      ],
      "execution_count": 95,
      "outputs": [
        {
          "output_type": "stream",
          "text": [
            "Arrange wheat on a plate of N squares (ndarray)：[[1.00000000e+00 2.00000000e+00 4.00000000e+00 8.00000000e+00\n",
            "  1.60000000e+01 3.20000000e+01 6.40000000e+01 1.28000000e+02]\n",
            " [2.56000000e+02 5.12000000e+02 1.02400000e+03 2.04800000e+03\n",
            "  4.09600000e+03 8.19200000e+03 1.63840000e+04 3.27680000e+04]\n",
            " [6.55360000e+04 1.31072000e+05 2.62144000e+05 5.24288000e+05\n",
            "  1.04857600e+06 2.09715200e+06 4.19430400e+06 8.38860800e+06]\n",
            " [1.67772160e+07 3.35544320e+07 6.71088640e+07 1.34217728e+08\n",
            "  2.68435456e+08 5.36870912e+08 1.07374182e+09 2.14748365e+09]\n",
            " [4.29496730e+09 8.58993459e+09 1.71798692e+10 3.43597384e+10\n",
            "  6.87194767e+10 1.37438953e+11 2.74877907e+11 5.49755814e+11]\n",
            " [1.09951163e+12 2.19902326e+12 4.39804651e+12 8.79609302e+12\n",
            "  1.75921860e+13 3.51843721e+13 7.03687442e+13 1.40737488e+14]\n",
            " [2.81474977e+14 5.62949953e+14 1.12589991e+15 2.25179981e+15\n",
            "  4.50359963e+15 9.00719925e+15 1.80143985e+16 3.60287970e+16]\n",
            " [7.20575940e+16 1.44115188e+17 2.88230376e+17 5.76460752e+17\n",
            "  1.15292150e+18 2.30584301e+18 4.61168602e+18 9.22337204e+18]]\n",
            "First half: \n",
            "[1.68430090e+07 3.36860180e+07 6.73720360e+07 1.34744072e+08\n",
            " 2.69488144e+08 5.38976288e+08 1.07795258e+09 2.15590515e+09]\n",
            "second half: \n",
            "[7.23401728e+16 1.44680346e+17 2.89360691e+17 5.78721383e+17\n",
            " 1.15744277e+18 2.31488553e+18 4.62977106e+18 9.25954212e+18]\n",
            " The second half 4294967296.0 times greater then the first half.\n"
          ],
          "name": "stdout"
        }
      ]
    },
    {
      "cell_type": "markdown",
      "metadata": {
        "id": "h2u5CXySSQr9"
      },
      "source": [
        "**[Problem 6] Expansion to n × m mass by another calculation method**"
      ]
    },
    {
      "cell_type": "code",
      "metadata": {
        "colab": {
          "base_uri": "https://localhost:8080/"
        },
        "id": "h8H6pd6OPDkH",
        "outputId": "8808b385-bcf0-4821-e08a-712a1975817e"
      },
      "source": [
        "import numpy as np\r\n",
        "\r\n",
        "n_squares = 8\r\n",
        "\r\n",
        "def arr_wheat_chessboard(n_squares):\r\n",
        "\r\n",
        "  small_board_list = np.array([1])\r\n",
        "  for _ in range(n_squares * n_squares - 1):\r\n",
        "      # used np.append\r\n",
        "      small_board_list = np.append(small_board_list, 2*small_board_list[-1])\r\n",
        "\r\n",
        "  small_board_ndarray = np.array(small_board_list)\r\n",
        "\r\n",
        "  small_board_ndarray = small_board_ndarray.reshape(n_squares, n_squares)\r\n",
        "\r\n",
        "  return small_board_ndarray\r\n",
        "\r\n",
        "small_board_ndarray = arr_wheat_chessboard(n_squares)\r\n",
        "\r\n",
        "print(\"Arrange wheat on a plate of N squares (ndarray)：{}\".format(small_board_ndarray))\r\n",
        "\r\n",
        "total = small_board_ndarray.sum()\r\n",
        "\r\n",
        "print(\"SUM of wheat : {}\".format(total))\r\n"
      ],
      "execution_count": 110,
      "outputs": [
        {
          "output_type": "stream",
          "text": [
            "Arrange wheat on a plate of N squares (ndarray)：[[                   1                    2                    4\n",
            "                     8                   16                   32\n",
            "                    64                  128]\n",
            " [                 256                  512                 1024\n",
            "                  2048                 4096                 8192\n",
            "                 16384                32768]\n",
            " [               65536               131072               262144\n",
            "                524288              1048576              2097152\n",
            "               4194304              8388608]\n",
            " [            16777216             33554432             67108864\n",
            "             134217728            268435456            536870912\n",
            "            1073741824           2147483648]\n",
            " [          4294967296           8589934592          17179869184\n",
            "           34359738368          68719476736         137438953472\n",
            "          274877906944         549755813888]\n",
            " [       1099511627776        2199023255552        4398046511104\n",
            "         8796093022208       17592186044416       35184372088832\n",
            "        70368744177664      140737488355328]\n",
            " [     281474976710656      562949953421312     1125899906842624\n",
            "      2251799813685248     4503599627370496     9007199254740992\n",
            "     18014398509481984    36028797018963968]\n",
            " [   72057594037927936   144115188075855872   288230376151711744\n",
            "    576460752303423488  1152921504606846976  2305843009213693952\n",
            "   4611686018427387904 -9223372036854775808]]\n",
            "SUM of wheat : -1\n"
          ],
          "name": "stdout"
        },
        {
          "output_type": "stream",
          "text": [
            "/usr/local/lib/python3.7/dist-packages/ipykernel_launcher.py:10: RuntimeWarning: overflow encountered in long_scalars\n",
            "  # Remove the CWD from sys.path while we load stuff.\n"
          ],
          "name": "stderr"
        }
      ]
    },
    {
      "cell_type": "markdown",
      "metadata": {
        "id": "aD1PtY2Ru1km"
      },
      "source": [
        "**[Problem 7] Comparing calculation times**"
      ]
    },
    {
      "cell_type": "code",
      "metadata": {
        "colab": {
          "base_uri": "https://localhost:8080/"
        },
        "id": "VCxu2NVQwnT4",
        "outputId": "57028970-a9d4-46e3-bc7c-94d09bf9806a"
      },
      "source": [
        "import timeit\r\n",
        "import time\r\n",
        "start = time.time()\r\n",
        "\r\n",
        "n_squares = 8\r\n",
        "\r\n",
        "#1\r\n",
        "small_board_ndarray = np.array([1])\r\n",
        "for _ in range(n_squares - 1):\r\n",
        "    small_board_ndarray = np.append(small_board_ndarray, 2*small_board_ndarray[-1])\r\n",
        "print(\"Arrange wheat on a plate of 4 squares (ndarray)：{}\".format(small_board_ndarray))\r\n",
        "\r\n",
        "elapsed_time = time.time() - start\r\n",
        "print(\"1) time : {}[s]\".format(elapsed_time))\r\n",
        "\r\n",
        "#2\r\n",
        "start = time.time()\r\n",
        "indices_of_squares = np.arange(n_squares)\r\n",
        "small_board_ndarray = 2**indices_of_squares\r\n",
        "print(\"Arrange wheat on a plate of 4 squares (ndarray)：{}\".format(small_board_ndarray))\r\n",
        "\r\n",
        "elapsed_time = time.time() - start\r\n",
        "print(\"2) time : {}[s]\".format(elapsed_time))\r\n",
        "\r\n",
        "#3\r\n",
        "start = time.time()\r\n",
        "small_board_list = [1]\r\n",
        "for _ in range(n_squares - 1):\r\n",
        "    small_board_list.append(2*small_board_list[-1])\r\n",
        "small_board_ndarray = np.array(small_board_list)\r\n",
        "print(\"Arrange wheat on a plate of 4 squares (ndarray)：{}\".format(small_board_ndarray))\r\n",
        "\r\n",
        "elapsed_time = time.time() - start\r\n",
        "print(\"3) time : {}[s]\".format(elapsed_time))\r\n"
      ],
      "execution_count": 114,
      "outputs": [
        {
          "output_type": "stream",
          "text": [
            "Arrange wheat on a plate of 4 squares (ndarray)：[  1   2   4   8  16  32  64 128]\n",
            "1) time : 0.0008749961853027344[s]\n",
            "Arrange wheat on a plate of 4 squares (ndarray)：[  1   2   4   8  16  32  64 128]\n",
            "2) time : 0.0003745555877685547[s]\n",
            "Arrange wheat on a plate of 4 squares (ndarray)：[  1   2   4   8  16  32  64 128]\n",
            "3) time : 0.0003905296325683594[s]\n"
          ],
          "name": "stdout"
        }
      ]
    }
  ]
}