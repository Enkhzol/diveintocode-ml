{
  "nbformat": 4,
  "nbformat_minor": 0,
  "metadata": {
    "colab": {
      "name": "diver_class_assignment2_Mt_Fuji.ipynb",
      "provenance": [],
      "collapsed_sections": [],
      "authorship_tag": "ABX9TyN2ERyRhhajAbiAgWdy1aiO",
      "include_colab_link": true
    },
    "kernelspec": {
      "name": "python3",
      "display_name": "Python 3"
    }
  },
  "cells": [
    {
      "cell_type": "markdown",
      "metadata": {
        "id": "view-in-github",
        "colab_type": "text"
      },
      "source": [
        "<a href=\"https://colab.research.google.com/github/Enkhzol/diveintocode-ml/blob/master/diver_class_assignment2_Mt_Fuji.ipynb\" target=\"_parent\"><img src=\"https://colab.research.google.com/assets/colab-badge.svg\" alt=\"Open In Colab\"/></a>"
      ]
    },
    {
      "cell_type": "code",
      "metadata": {
        "id": "VNKhfo89qqO3"
      },
      "source": [
        ""
      ],
      "execution_count": null,
      "outputs": []
    },
    {
      "cell_type": "markdown",
      "metadata": {
        "id": "BubRg4hJrHxM"
      },
      "source": [
        "[Problem 1] Minimum number of folds over Mt. Fuji"
      ]
    },
    {
      "cell_type": "code",
      "metadata": {
        "colab": {
          "base_uri": "https://localhost:8080/"
        },
        "id": "w1q5R4axrIn7",
        "outputId": "4f53bba2-0608-41a4-ce7a-82d9155a8f9a"
      },
      "source": [
        "MT_FUJI = 3776\r\n",
        "\r\n",
        "THICKNESS = 0.00008\r\n",
        "folded_thickness = THICKNESS\r\n",
        "\r\n",
        "is_exceed = False\r\n",
        "min_fold = 0\r\n",
        "while not is_exceed:\r\n",
        "  folded_thickness = folded_thickness * 2\r\n",
        "  min_fold = min_fold + 1\r\n",
        "  if folded_thickness >= MT_FUJI :\r\n",
        "    is_exceed = True\r\n",
        "    break\r\n",
        "\r\n",
        "print(\"Thickness: {} meters, Folds {}\".format(folded_thickness,min_fold))"
      ],
      "execution_count": 2,
      "outputs": [
        {
          "output_type": "stream",
          "text": [
            "Thickness: 5368.70912 meters, Folds 26\n"
          ],
          "name": "stdout"
        }
      ]
    },
    {
      "cell_type": "markdown",
      "metadata": {
        "id": "1jvvYdlCtAb-"
      },
      "source": [
        "[Problem 2] Creating a function corresponding to an arbitrary thickness"
      ]
    },
    {
      "cell_type": "code",
      "metadata": {
        "colab": {
          "base_uri": "https://localhost:8080/"
        },
        "id": "yMCA5DQStEi3",
        "outputId": "e2075354-f323-4690-d715-35eb935e08ae"
      },
      "source": [
        "Distance_Proxima_Centauri_b = 7500000000 #meter\r\n",
        "\r\n",
        "THICKNESS = 0.00008 # meter\r\n",
        "\r\n",
        "\r\n",
        "def get_folds_number(distance, thickness):\r\n",
        "  folded_thickness = thickness\r\n",
        "  is_exceed = False\r\n",
        "  min_fold = 0\r\n",
        "  while not is_exceed:\r\n",
        "    folded_thickness = folded_thickness * 2\r\n",
        "    min_fold = min_fold + 1\r\n",
        "    if folded_thickness >= distance :\r\n",
        "      is_exceed = True\r\n",
        "      break\r\n",
        "  return folded_thickness, min_fold\r\n",
        "\r\n",
        "folded_thickness, min_fold = get_folds_number(Distance_Proxima_Centauri_b, THICKNESS)\r\n",
        "\r\n",
        "print(\"Thickness: {} meters, Folds {}\".format(folded_thickness, min_fold))\r\n",
        "\r\n"
      ],
      "execution_count": 6,
      "outputs": [
        {
          "output_type": "stream",
          "text": [
            "Thickness: 11258999068.42624 meters, Folds 47\n"
          ],
          "name": "stdout"
        }
      ]
    },
    {
      "cell_type": "markdown",
      "metadata": {
        "id": "_ZeUFwdovnEX"
      },
      "source": [
        "**[Problem 3] Required paper length**"
      ]
    },
    {
      "cell_type": "code",
      "metadata": {
        "colab": {
          "base_uri": "https://localhost:8080/"
        },
        "id": "cN2sy66zvqJR",
        "outputId": "2f5df75b-0184-40bb-8986-d924828c223c"
      },
      "source": [
        "\r\n",
        "import math\r\n",
        "\r\n",
        "distance_moon  = 384400000 # meter\r\n",
        "folded_thickness, min_fold = get_folds_number(distance_moon, THICKNESS)\r\n",
        "print(\"To Moon : Thickness: {} meters, Folds {}\".format(folded_thickness, min_fold))\r\n",
        "\r\n",
        "folds_fuji = 26\r\n",
        "folds_moon = min_fold # 43\r\n",
        "folds_Proxima_Centauri_b = 47\r\n",
        "\r\n",
        "THICKNESS = 0.00008 # meter\r\n",
        "\r\n",
        "def get_length_paper(t_0, n_folds):\r\n",
        "  length = math.pi * t_0 * (2**n_folds + 4) * (2**n_folds- 1) / 6\r\n",
        "  return length\r\n",
        "\r\n",
        "print(\"To Mt. Fuji, required paper length : \", get_length_paper(THICKNESS, folds_fuji))\r\n",
        "print(\"To Moon, required paper length : \", get_length_paper(THICKNESS, folds_moon))\r\n",
        "print(\"To Proxima Centauri b, required paper length : \", get_length_paper(THICKNESS, folds_Proxima_Centauri_b))\r\n",
        "  "
      ],
      "execution_count": 10,
      "outputs": [
        {
          "output_type": "stream",
          "text": [
            "To Moon : Thickness: 703687441.77664 meters, Folds 43\n",
            "To Mt. Fuji, required paper length :  188646348487.24014\n",
            "To Moon, required paper length :  3.240919444170781e+21\n",
            "To Proxima Centauri b, required paper length :  8.296753777074548e+23\n"
          ],
          "name": "stdout"
        }
      ]
    },
    {
      "cell_type": "code",
      "metadata": {
        "id": "HIH0oKTQydtY"
      },
      "source": [
        ""
      ],
      "execution_count": null,
      "outputs": []
    }
  ]
}