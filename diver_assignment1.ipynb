{
  "nbformat": 4,
  "nbformat_minor": 0,
  "metadata": {
    "colab": {
      "name": "diver_assignment1.ipynb",
      "provenance": [],
      "collapsed_sections": [],
      "authorship_tag": "ABX9TyNv87zn6F3HgUop9ltaLw3b",
      "include_colab_link": true
    },
    "kernelspec": {
      "name": "python3",
      "display_name": "Python 3"
    },
    "accelerator": "GPU"
  },
  "cells": [
    {
      "cell_type": "markdown",
      "metadata": {
        "id": "view-in-github",
        "colab_type": "text"
      },
      "source": [
        "<a href=\"https://colab.research.google.com/github/Enkhzol/diveintocode-ml/blob/master/diver_assignment1.ipynb\" target=\"_parent\"><img src=\"https://colab.research.google.com/assets/colab-badge.svg\" alt=\"Open In Colab\"/></a>"
      ]
    },
    {
      "cell_type": "markdown",
      "metadata": {
        "id": "TnRjc3_B7TVC"
      },
      "source": [
        "**Introduction to Python Pre-class assignment 1 Let's use Python**"
      ]
    },
    {
      "cell_type": "markdown",
      "metadata": {
        "id": "-e3eBy2ZDKvy"
      },
      "source": [
        "Enkhzol Dovdon"
      ]
    },
    {
      "cell_type": "markdown",
      "metadata": {
        "id": "IkA-kz3KDMcM"
      },
      "source": [
        "**[Problem 1] Create using the exponentiation arithmetic operator**"
      ]
    },
    {
      "cell_type": "code",
      "metadata": {
        "colab": {
          "base_uri": "https://localhost:8080/"
        },
        "id": "CWrrRsVzDPH2",
        "outputId": "da3e3aaa-25e9-40cd-bf46-effa7ed43331"
      },
      "source": [
        "\"\"\"\n",
        "Code to calculate the thickness when the paper is folded once\n",
        "\"\"\"\n",
        "THICKNESS = 0.00008\n",
        "folded_thickness = THICKNESS* (2**43)\n",
        "print(\"Thickness: {} meters\".format(folded_thickness))"
      ],
      "execution_count": null,
      "outputs": [
        {
          "output_type": "stream",
          "text": [
            "Thickness: 703687441.77664 meters\n"
          ],
          "name": "stdout"
        }
      ]
    },
    {
      "cell_type": "markdown",
      "metadata": {
        "id": "Ds74bWy2DoVD"
      },
      "source": [
        "[Problem 2] Unit Conversion"
      ]
    },
    {
      "cell_type": "code",
      "metadata": {
        "colab": {
          "base_uri": "https://localhost:8080/"
        },
        "id": "JpbJZlQRDuVk",
        "outputId": "7c5dbd5a-d421-41fd-d075-cb2be9d81618"
      },
      "source": [
        "# Convert meters to kilometers and display with two decimal places\n",
        "folded_thickness_km = folded_thickness/1000\n",
        "\n",
        "print(\"Thickness: {: .0f} kilometers\".format(folded_thickness_km))"
      ],
      "execution_count": null,
      "outputs": [
        {
          "output_type": "stream",
          "text": [
            "Thickness:  703687 kilometers\n"
          ],
          "name": "stdout"
        }
      ]
    },
    {
      "cell_type": "markdown",
      "metadata": {
        "id": "sh6Ar5wFF4my"
      },
      "source": [
        "[Problem 3] Create using a for statement"
      ]
    },
    {
      "cell_type": "code",
      "metadata": {
        "colab": {
          "base_uri": "https://localhost:8080/"
        },
        "id": "6EQ-8k8iE5YJ",
        "outputId": "4a6a8bbf-d1f9-48b0-d59d-0344e7b70efc"
      },
      "source": [
        "THICKNESS = 0.00008\n",
        "folded_thickness = 2 * 2 * 2 * 2 * 2 * 2 * 2\n",
        "folded_thickness = folded_thickness * folded_thickness * folded_thickness\n",
        "folded_thickness = folded_thickness * folded_thickness * 2\n",
        "\n",
        "print(\"Thickness: {} meters\".format(folded_thickness * THICKNESS))"
      ],
      "execution_count": null,
      "outputs": [
        {
          "output_type": "stream",
          "text": [
            "Thickness: 703687441.77664 meters\n"
          ],
          "name": "stdout"
        }
      ]
    },
    {
      "cell_type": "markdown",
      "metadata": {
        "id": "oP2gwMilHUu_"
      },
      "source": [
        "[Problem 4] Comparison of calculation time"
      ]
    },
    {
      "cell_type": "code",
      "metadata": {
        "colab": {
          "base_uri": "https://localhost:8080/"
        },
        "id": "AmZXFJKsHVaZ",
        "outputId": "51d60e0d-aa41-413d-f230-f8561b47737c"
      },
      "source": [
        "import time\n",
        "start = time.time()\n",
        "THICKNESS = 0.00008\n",
        "folded_thickness = THICKNESS* (2**43)\n",
        "print(\"Thickness: {} meters\".format(folded_thickness))\n",
        "elapsed_time = time.time() - start\n",
        "print(\"time : {}[s]\".format(elapsed_time))\n",
        "\n",
        "import timeit\n",
        "start = time.time()\n",
        "THICKNESS = 0.00008\n",
        "folded_thickness = THICKNESS* (2**43)\n",
        "print(\"Thickness: {} meters\".format(folded_thickness))\n",
        "elapsed_time = time.time() - start\n",
        "print(\"time : {}[s]\".format(elapsed_time))\n",
        "\n",
        "# using for\n",
        "import timeit\n",
        "start = time.time()\n",
        "THICKNESS = 0.00008\n",
        "folded_thickness = THICKNESS\n",
        "\n",
        "for i in range(43):\n",
        "  folded_thickness = folded_thickness * 2\n",
        "\n",
        "print(\"Thickness: {} meters\".format(folded_thickness))\n",
        "elapsed_time = time.time() - start\n",
        "print(\"time : {}[s]\".format(elapsed_time))\n",
        "\n"
      ],
      "execution_count": 2,
      "outputs": [
        {
          "output_type": "stream",
          "text": [
            "Thickness: 703687441.77664 meters\n",
            "time : 0.0002067089080810547[s]\n",
            "Thickness: 703687441.77664 meters\n",
            "time : 0.00010442733764648438[s]\n",
            "Thickness: 703687441.77664 meters\n",
            "time : 0.00012993812561035156[s]\n"
          ],
          "name": "stdout"
        }
      ]
    },
    {
      "cell_type": "markdown",
      "metadata": {
        "id": "PXMQMkdKI1mo"
      },
      "source": [
        "[Problem 5] Saving to a list"
      ]
    },
    {
      "cell_type": "code",
      "metadata": {
        "colab": {
          "base_uri": "https://localhost:8080/"
        },
        "id": "06UjGwfTI2qw",
        "outputId": "3a8a69a1-ce3d-4ee3-d0b9-122065ebff0b"
      },
      "source": [
        "\n",
        "THICKNESS = 0.00008\n",
        "folded_thickness = list()\n",
        "for i in range(44):\n",
        "  folded_thickness.append(THICKNESS* (2**i))\n",
        "\n",
        "print(len(folded_thickness))\n",
        "print(folded_thickness)"
      ],
      "execution_count": null,
      "outputs": [
        {
          "output_type": "stream",
          "text": [
            "44\n",
            "[8e-05, 0.00016, 0.00032, 0.00064, 0.00128, 0.00256, 0.00512, 0.01024, 0.02048, 0.04096, 0.08192, 0.16384, 0.32768, 0.65536, 1.31072, 2.62144, 5.24288, 10.48576, 20.97152, 41.94304, 83.88608, 167.77216, 335.54432, 671.08864, 1342.17728, 2684.35456, 5368.70912, 10737.41824, 21474.83648, 42949.67296, 85899.34592, 171798.69184, 343597.38368, 687194.76736, 1374389.53472, 2748779.06944, 5497558.13888, 10995116.27776, 21990232.55552, 43980465.11104, 87960930.22208, 175921860.44416, 351843720.88832, 703687441.77664]\n"
          ],
          "name": "stdout"
        }
      ]
    },
    {
      "cell_type": "markdown",
      "metadata": {
        "id": "EoWuIyZnJ1Xr"
      },
      "source": [
        "[Problem 6] Displaying a line graph"
      ]
    },
    {
      "cell_type": "code",
      "metadata": {
        "colab": {
          "base_uri": "https://localhost:8080/",
          "height": 350
        },
        "id": "F6y0nu29J2EG",
        "outputId": "5761026b-5645-4f4c-d10f-96373602a1e4"
      },
      "source": [
        "import matplotlib.pyplot as plt\n",
        "%matplotlib inline\n",
        "\n",
        "THICKNESS = 0.00008\n",
        "folded_thickness = list()\n",
        "for i in range(44):\n",
        "  folded_thickness.append(THICKNESS* (2**i))\n",
        "\n",
        "print(len(folded_thickness))\n",
        "print(folded_thickness)\n",
        "\n",
        "plt.title(\"thickness of folded paper\")\n",
        "plt.xlabel(\"number of folds\")\n",
        "plt.ylabel(\"thickness[m]\")\n",
        "plt.plot(folded_thickness) # Enter the variable name of the list in \"List name\"\n",
        "plt.show()\n",
        "\n"
      ],
      "execution_count": null,
      "outputs": [
        {
          "output_type": "stream",
          "text": [
            "44\n",
            "[8e-05, 0.00016, 0.00032, 0.00064, 0.00128, 0.00256, 0.00512, 0.01024, 0.02048, 0.04096, 0.08192, 0.16384, 0.32768, 0.65536, 1.31072, 2.62144, 5.24288, 10.48576, 20.97152, 41.94304, 83.88608, 167.77216, 335.54432, 671.08864, 1342.17728, 2684.35456, 5368.70912, 10737.41824, 21474.83648, 42949.67296, 85899.34592, 171798.69184, 343597.38368, 687194.76736, 1374389.53472, 2748779.06944, 5497558.13888, 10995116.27776, 21990232.55552, 43980465.11104, 87960930.22208, 175921860.44416, 351843720.88832, 703687441.77664]\n"
          ],
          "name": "stdout"
        },
        {
          "output_type": "display_data",
          "data": {
            "image/png": "[encoded data removed]",
            "text/plain": [
              "<Figure size 432x288 with 1 Axes>"
            ]
          },
          "metadata": {
            "tags": [],
            "needs_background": "light"
          }
        }
      ]
    },
    {
      "cell_type": "markdown",
      "metadata": {
        "id": "gCijoGjIKJVv"
      },
      "source": [
        "[Problem 7] Customizing graphs"
      ]
    },
    {
      "cell_type": "code",
      "metadata": {
        "colab": {
          "base_uri": "https://localhost:8080/",
          "height": 359
        },
        "id": "UZ20lOGRKK7B",
        "outputId": "8d057384-e5fd-446f-8a84-b34080737ca9"
      },
      "source": [
        "import matplotlib.pyplot as plt\n",
        "%matplotlib inline\n",
        "\n",
        "THICKNESS = 0.00008\n",
        "folded_thickness = list()\n",
        "for i in range(44):\n",
        "  folded_thickness.append(THICKNESS* (2**i))\n",
        "\n",
        "print(len(folded_thickness))\n",
        "print(folded_thickness)\n",
        "\n",
        "plt.title(\"thickness of folded paper\")\n",
        "plt.xlabel(\"number of folds\")\n",
        "plt.ylabel(\"thickness[m]\")\n",
        "plt.tick_params(labelsize=20)\n",
        "plt.plot(folded_thickness, color='red') # Enter the variable name of the list in \"List name\"\n",
        "plt.show()\n"
      ],
      "execution_count": null,
      "outputs": [
        {
          "output_type": "stream",
          "text": [
            "44\n",
            "[8e-05, 0.00016, 0.00032, 0.00064, 0.00128, 0.00256, 0.00512, 0.01024, 0.02048, 0.04096, 0.08192, 0.16384, 0.32768, 0.65536, 1.31072, 2.62144, 5.24288, 10.48576, 20.97152, 41.94304, 83.88608, 167.77216, 335.54432, 671.08864, 1342.17728, 2684.35456, 5368.70912, 10737.41824, 21474.83648, 42949.67296, 85899.34592, 171798.69184, 343597.38368, 687194.76736, 1374389.53472, 2748779.06944, 5497558.13888, 10995116.27776, 21990232.55552, 43980465.11104, 87960930.22208, 175921860.44416, 351843720.88832, 703687441.77664]\n"
          ],
          "name": "stdout"
        },
        {
          "output_type": "display_data",
          "data": {
            "image/png": "[encoded data removed]",
            "text/plain": [
              "<Figure size 432x288 with 1 Axes>"
            ]
          },
          "metadata": {
            "tags": [],
            "needs_background": "light"
          }
        }
      ]
    }
  ]
}