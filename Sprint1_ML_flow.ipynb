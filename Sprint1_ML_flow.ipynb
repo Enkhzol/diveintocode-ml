{
  "nbformat": 4,
  "nbformat_minor": 0,
  "metadata": {
    "colab": {
      "name": "Sprint1_ML_flow.ipynb",
      "provenance": [],
      "mount_file_id": "1GPSMz-dYpP6XOb-TSVqTuM7niVyTYAiv",
      "authorship_tag": "ABX9TyPOTgy1gpilI1YeVLObkfLP",
      "include_colab_link": true
    },
    "kernelspec": {
      "name": "python3",
      "display_name": "Python 3"
    },
    "language_info": {
      "name": "python"
    }
  },
  "cells": [
    {
      "cell_type": "markdown",
      "metadata": {
        "id": "view-in-github",
        "colab_type": "text"
      },
      "source": [
        "<a href=\"https://colab.research.google.com/github/Enkhzol/diveintocode-ml/blob/master/Sprint1_ML_flow.ipynb\" target=\"_parent\"><img src=\"https://colab.research.google.com/assets/colab-badge.svg\" alt=\"Open In Colab\"/></a>"
      ]
    },
    {
      "cell_type": "markdown",
      "source": [
        "**1. About this Sprint​ ​**\n",
        "\n",
        "**The purpose of this Sprint**\n",
        "\n",
        "    Know the practical flow of machine learning\n",
        "    Complete a model with high generalization performance\n",
        "\n",
        "\n",
        "How to learn\n",
        "\n",
        "After making it possible to perform careful verification, we will proceed with model creation with high generalization performance, referring to the solution of others."
      ],
      "metadata": {
        "id": "Zho0OzOzJmJ-"
      }
    },
    {
      "cell_type": "markdown",
      "source": [
        "**2. Machine learning flow**\n",
        "\n",
        "Using Kaggle's Home Credit Default Risk competition as a starting point, we will learn the practical flow of machine learning. In particular, we will aim to complete a model with a high generalisation performance and appropriate validation.​ ​\n",
        "\n",
        "Home Credit Default Risk | Kaggle\n",
        "https://www.kaggle.com/c/home-credit-default-risk"
      ],
      "metadata": {
        "id": "YLEiOWJpJs4d"
      }
    },
    {
      "cell_type": "markdown",
      "source": [
        "**[Problem 1] Cross Validation**\n",
        "\n",
        "In the pre-learning period, the verification data was divided first, and the index value was calculated for that, and verification was performed. (Holdout method) However, the accuracy varies depending on the division method; in practice Cross Validation. This is a method of performing splitting multiple times and performing learning and verification for each. KFold class is provided in scikit-learn for splitting multiple times.\n",
        "\n",
        "Create and execute code that Validation baseline model created in the pre-learning period assignment\n",
        "https://scikit-learn.org/stable/modules/generated/sklearn.model_selection.KFold.html#sklearn.model_selection.KFold"
      ],
      "metadata": {
        "id": "c_4gGoPJJ9A9"
      }
    },
    {
      "cell_type": "code",
      "source": [
        "#THIS EXAMPLE IS SHOWN 2-FOLD CROSS VALIDATION:\n",
        "\n",
        "import numpy as np\n",
        "from sklearn.model_selection import KFold\n",
        "X = np.array([[1, 2], [3, 4], [1, 2], [3, 4]])\n",
        "y = np.array([1, 2, 3, 4])\n",
        "kf = KFold(n_splits=2)\n",
        "kf.get_n_splits(X)\n",
        "\n",
        "print(\"kf = \",kf)\n",
        "\n",
        "for train_index, test_index in kf.split(X):\n",
        "    print(\"TRAIN:\", train_index, \"TEST:\", test_index)\n",
        "    X_train, X_test = X[train_index], X[test_index]\n",
        "    y_train, y_test = y[train_index], y[test_index]\n",
        "\n",
        "    print(\"X_train = \", X_train)\n",
        "    print(\"y_train = \", y_train)\n",
        "    print(\"X_test = \", X_test)\n",
        "    print(\"y_test = \", y_test)"
      ],
      "metadata": {
        "colab": {
          "base_uri": "https://localhost:8080/"
        },
        "id": "O1yfA6KHJrl5",
        "outputId": "2266e787-332f-4692-96ce-f996b6b8a28d"
      },
      "execution_count": null,
      "outputs": [
        {
          "output_type": "stream",
          "name": "stdout",
          "text": [
            "kf =  KFold(n_splits=2, random_state=None, shuffle=False)\n",
            "TRAIN: [2 3] TEST: [0 1]\n",
            "X_train =  [[1 2]\n",
            " [3 4]]\n",
            "y_train =  [3 4]\n",
            "X_test =  [[1 2]\n",
            " [3 4]]\n",
            "y_test =  [1 2]\n",
            "TRAIN: [0 1] TEST: [2 3]\n",
            "X_train =  [[1 2]\n",
            " [3 4]]\n",
            "y_train =  [1 2]\n",
            "X_test =  [[1 2]\n",
            " [3 4]]\n",
            "y_test =  [3 4]\n"
          ]
        }
      ]
    },
    {
      "cell_type": "markdown",
      "source": [
        "**[Problem 2] Grid search**\n",
        "\n",
        "So far, I haven't touched on the classifier parameters and used the default settings. Details of the parameters will be learned in future sprints. As a prerequisite for machine learning, it is necessary to select the optimum parameters according to the situation. Searching for the optimum parameters is called parameter tuning. A simple way to automate parameter tuning to some extent is grid search.\n",
        "\n",
        "Please use Scikit-learn's GridSearchCV to create the code for grid search. Then do some parameter tuning on the baseline model. Please refer to the official documentation of the method used to determine which parameters to tune.\n",
        "\n",
        "sklearn.model_selection.GridSearchCV — scikit-learn 0.21.3 documentation\n",
        "https://scikit-learn.org/stable/modules/generated/sklearn.model_selection.GridSearchCV.html\n",
        "\n",
        "To the GridSearchCV class, give the model, the search range, and the number of divisions for cross Validation as arguments. You don't need to use KFold class if you want to use it as it also includes cross Validation functionality."
      ],
      "metadata": {
        "id": "55FdL7I-KXya"
      }
    },
    {
      "cell_type": "code",
      "source": [
        "#PRINTING BEST PARAMETERS FROM THE DEFINED GRID SEARCH:\n",
        "\n",
        "from sklearn import svm, datasets\n",
        "from sklearn.model_selection import GridSearchCV\n",
        "iris = datasets.load_iris()\n",
        "#parameters = {'kernel':('linear', 'rbf'), 'C':[1, 10]}\n",
        "param_grid = [\n",
        "  {'C': [1, 10, 100, 1000], 'kernel': ['linear']},\n",
        "  {'C': [1, 10, 100, 1000], 'gamma': [0.001, 0.0001], 'kernel': ['rbf']},\n",
        "  {'C': [1, 10, 100, 1000], 'kernel': ['poly'], 'degree':[2,3,4,5]},\n",
        " ]\n",
        "\n",
        "svc = svm.SVC()\n",
        "clf = GridSearchCV(svc, param_grid)\n",
        "clf.fit(iris.data, iris.target)\n",
        "\n",
        "print(\"Best parameters: \" ,clf.best_estimator_)\n",
        "\n",
        "\n",
        "sorted(clf.cv_results_.keys())"
      ],
      "metadata": {
        "colab": {
          "base_uri": "https://localhost:8080/"
        },
        "id": "RE_VvIxNKcHY",
        "outputId": "dedd9c0a-eb4d-4f7d-e9ba-1851d81d7e9e"
      },
      "execution_count": null,
      "outputs": [
        {
          "output_type": "stream",
          "name": "stdout",
          "text": [
            "Best parameters:  SVC(C=1, degree=2, kernel='poly')\n"
          ]
        },
        {
          "output_type": "execute_result",
          "data": {
            "text/plain": [
              "['mean_fit_time',\n",
              " 'mean_score_time',\n",
              " 'mean_test_score',\n",
              " 'param_C',\n",
              " 'param_degree',\n",
              " 'param_gamma',\n",
              " 'param_kernel',\n",
              " 'params',\n",
              " 'rank_test_score',\n",
              " 'split0_test_score',\n",
              " 'split1_test_score',\n",
              " 'split2_test_score',\n",
              " 'split3_test_score',\n",
              " 'split4_test_score',\n",
              " 'std_fit_time',\n",
              " 'std_score_time',\n",
              " 'std_test_score']"
            ]
          },
          "metadata": {},
          "execution_count": 13
        }
      ]
    },
    {
      "cell_type": "markdown",
      "source": [
        "[Problem 3] Survey from Kaggle Notebooks\n",
        "\n",
        "Find and list different ideas from Kaggle's Notebooks."
      ],
      "metadata": {
        "id": "Lw14oZfRKhX0"
      }
    },
    {
      "cell_type": "markdown",
      "source": [
        "**EXAMPLE: **\n",
        "\n",
        "**https://www.youtube.com/watch?v=VaJEK6fycwM**\n",
        "\n",
        "\n",
        "https://www.kaggle.com/docs/notebooks"
      ],
      "metadata": {
        "id": "fRoJDiYCQgW6"
      }
    },
    {
      "cell_type": "markdown",
      "source": [
        "[Problem 4] Creating a model with high generalization performance\n",
        "\n",
        "Please combine the idea found in Problem 3 and your own idea to create a model with high generalization performance.\n",
        "\n",
        "As a process, please summarize in a table what you did and how much the cross Validation results changed."
      ],
      "metadata": {
        "id": "8zAYd4VDKkzX"
      }
    },
    {
      "cell_type": "code",
      "source": [
        "import pandas as pd\n",
        "import matplotlib.pyplot as plt\n",
        "import seaborn as sns\n",
        "import numpy as np\n",
        "from scipy.stats import kurtosis\n",
        "from scipy.stats import skew\n",
        "import pylab as pl\n",
        "\n",
        "application_train = pd.read_csv('/content/drive/MyDrive/my_sample_data/application_train_few.csv')\n",
        "application_test = pd.read_csv('/content/drive/MyDrive/my_sample_data/application_test_few.csv')\n",
        "\n",
        "application_train = pd.DataFrame(application_train)\n",
        "application_test = pd.DataFrame(application_test)\n",
        "\n",
        "print(application_train.shape)\n",
        "print(application_test.shape)\n",
        "\n",
        "from sklearn.model_selection import train_test_split\n",
        "\n",
        "app_train1 = application_train.loc[:, ['SK_ID_CURR', 'AMT_INCOME_TOTAL','DAYS_BIRTH', 'TARGET']]\n",
        "app_test1 = application_test.loc[:, ['SK_ID_CURR', 'AMT_INCOME_TOTAL','DAYS_BIRTH']]\n",
        "\n",
        "#learning data and verification data\n",
        "X_train, X_test, Y_train, Y_test = train_test_split(np.array(app_train1.iloc[:, [0, 1, 2]])\n",
        "                                                         , np.array(app_train1.iloc[:, [3]]), random_state = 0)\n",
        "\n",
        "print(X_train.shape)\n",
        "\n",
        "Y_train = Y_train.reshape(-1)\n",
        "Y_test = Y_test.reshape(-1)\n",
        "\n",
        "from sklearn.ensemble import RandomForestClassifier\n",
        "\n",
        "clf = RandomForestClassifier(max_depth=2, random_state=0)\n",
        "clf.fit(X_train, Y_train)\n",
        "Y_pred= clf.predict_proba(X_test)[:, 1]\n",
        "\n",
        "from sklearn.metrics import roc_auc_score\n",
        "print('roc score:', roc_auc_score(Y_test, Y_pred))"
      ],
      "metadata": {
        "colab": {
          "base_uri": "https://localhost:8080/"
        },
        "id": "DjiSAz5uKnrF",
        "outputId": "822b6427-f2ae-45d8-dc75-52e770de0fdd"
      },
      "execution_count": 3,
      "outputs": [
        {
          "output_type": "stream",
          "name": "stdout",
          "text": [
            "(20217, 122)\n",
            "(2247, 121)\n",
            "(15162, 3)\n",
            "roc score: 0.5897238010245218\n"
          ]
        }
      ]
    },
    {
      "cell_type": "markdown",
      "source": [
        "[Problem 5] Final model selection\n",
        "\n",
        "Ultimately, choose a model that says it's good and submit the estimated results to Kaggle to see your score. Please describe what kind of idea you adopted and what the score was."
      ],
      "metadata": {
        "id": "a7jDa6hkKom5"
      }
    },
    {
      "cell_type": "code",
      "source": [
        "import pandas as pd\n",
        "import matplotlib.pyplot as plt\n",
        "import seaborn as sns\n",
        "import numpy as np\n",
        "from scipy.stats import kurtosis\n",
        "from scipy.stats import skew\n",
        "import pylab as pl\n",
        "\n",
        "application_train = pd.read_csv('/content/drive/MyDrive/my_sample_data/application_train_few.csv')\n",
        "application_test = pd.read_csv('/content/drive/MyDrive/my_sample_data/application_test_few.csv')\n",
        "\n",
        "application_train = pd.DataFrame(application_train)\n",
        "application_test = pd.DataFrame(application_test)\n",
        "\n",
        "print(application_train.shape)\n",
        "print(application_test.shape)\n",
        "\n",
        "from sklearn.model_selection import train_test_split\n",
        "\n",
        "app_train1 = application_train.loc[:, ['SK_ID_CURR', 'AMT_INCOME_TOTAL','DAYS_BIRTH', 'TARGET']]\n",
        "app_test1 = application_test.loc[:, ['SK_ID_CURR', 'AMT_INCOME_TOTAL','DAYS_BIRTH']]\n",
        "\n",
        "#learning data and verification data\n",
        "X_train, X_test, Y_train, Y_test = train_test_split(np.array(app_train1.iloc[:, [0, 1, 2]])\n",
        "                                                         , np.array(app_train1.iloc[:, [3]]), random_state = 0)\n",
        "\n",
        "print(X_train.shape)\n",
        "\n",
        "Y_train = Y_train.reshape(-1)\n",
        "Y_test = Y_test.reshape(-1)\n",
        "\n",
        "from sklearn.ensemble import RandomForestClassifier\n",
        "\n",
        "clf = RandomForestClassifier(max_depth=2, random_state=0)\n",
        "clf.fit(X_train, Y_train)\n",
        "Y_pred= clf.predict_proba(X_test)[:, 1]\n",
        "\n",
        "from sklearn.metrics import roc_auc_score\n",
        "print('roc score:', roc_auc_score(Y_test, Y_pred))"
      ],
      "metadata": {
        "id": "lOwPlFiFKrCE",
        "colab": {
          "base_uri": "https://localhost:8080/"
        },
        "outputId": "c5b21f10-d4e6-49da-bb9c-fc94a20aae2f"
      },
      "execution_count": 4,
      "outputs": [
        {
          "output_type": "stream",
          "name": "stdout",
          "text": [
            "(20217, 122)\n",
            "(2247, 121)\n",
            "(15162, 3)\n",
            "roc score: 0.5897238010245218\n"
          ]
        }
      ]
    },
    {
      "cell_type": "code",
      "source": [
        ""
      ],
      "metadata": {
        "id": "1zUgc6X7i-Hk"
      },
      "execution_count": null,
      "outputs": []
    }
  ]
}