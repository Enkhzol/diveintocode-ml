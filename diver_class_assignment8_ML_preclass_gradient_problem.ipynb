{
  "nbformat": 4,
  "nbformat_minor": 0,
  "metadata": {
    "colab": {
      "name": "diver_class_assignment8_ML_preclass_gradient_problem.ipynb",
      "provenance": [],
      "collapsed_sections": [],
      "authorship_tag": "ABX9TyOoVU3ZMF2wHHkssSf9dLCD",
      "include_colab_link": true
    },
    "kernelspec": {
      "name": "python3",
      "display_name": "Python 3"
    },
    "language_info": {
      "name": "python"
    }
  },
  "cells": [
    {
      "cell_type": "markdown",
      "metadata": {
        "id": "view-in-github",
        "colab_type": "text"
      },
      "source": [
        "<a href=\"https://colab.research.google.com/github/Enkhzol/diveintocode-ml/blob/master/diver_class_assignment8_ML_preclass_gradient_problem.ipynb\" target=\"_parent\"><img src=\"https://colab.research.google.com/assets/colab-badge.svg\" alt=\"Open In Colab\"/></a>"
      ]
    },
    {
      "cell_type": "markdown",
      "metadata": {
        "id": "hkVwQHQdzuD_"
      },
      "source": [
        "**[Problem 1] Linear function**"
      ]
    },
    {
      "cell_type": "code",
      "metadata": {
        "colab": {
          "base_uri": "https://localhost:8080/"
        },
        "id": "wtQVmWLSzyWm",
        "outputId": "d05cfd1d-e580-401a-da7b-f9c441841a4c"
      },
      "source": [
        "import numpy as np\n",
        "\n",
        "X = np.arange(-50,51)\n",
        "print(X)\n",
        "\n",
        "y = []\n",
        "for v in X:\n",
        "  y.append(0.5 * v + 1)\n",
        "\n",
        "Y = np.array(y)\n",
        "\n",
        "print(Y)"
      ],
      "execution_count": null,
      "outputs": [
        {
          "output_type": "stream",
          "text": [
            "[-50 -49 -48 -47 -46 -45 -44 -43 -42 -41 -40 -39 -38 -37 -36 -35 -34 -33\n",
            " -32 -31 -30 -29 -28 -27 -26 -25 -24 -23 -22 -21 -20 -19 -18 -17 -16 -15\n",
            " -14 -13 -12 -11 -10  -9  -8  -7  -6  -5  -4  -3  -2  -1   0   1   2   3\n",
            "   4   5   6   7   8   9  10  11  12  13  14  15  16  17  18  19  20  21\n",
            "  22  23  24  25  26  27  28  29  30  31  32  33  34  35  36  37  38  39\n",
            "  40  41  42  43  44  45  46  47  48  49  50]\n",
            "[-24.  -23.5 -23.  -22.5 -22.  -21.5 -21.  -20.5 -20.  -19.5 -19.  -18.5\n",
            " -18.  -17.5 -17.  -16.5 -16.  -15.5 -15.  -14.5 -14.  -13.5 -13.  -12.5\n",
            " -12.  -11.5 -11.  -10.5 -10.   -9.5  -9.   -8.5  -8.   -7.5  -7.   -6.5\n",
            "  -6.   -5.5  -5.   -4.5  -4.   -3.5  -3.   -2.5  -2.   -1.5  -1.   -0.5\n",
            "   0.    0.5   1.    1.5   2.    2.5   3.    3.5   4.    4.5   5.    5.5\n",
            "   6.    6.5   7.    7.5   8.    8.5   9.    9.5  10.   10.5  11.   11.5\n",
            "  12.   12.5  13.   13.5  14.   14.5  15.   15.5  16.   16.5  17.   17.5\n",
            "  18.   18.5  19.   19.5  20.   20.5  21.   21.5  22.   22.5  23.   23.5\n",
            "  24.   24.5  25.   25.5  26. ]\n"
          ],
          "name": "stdout"
        }
      ]
    },
    {
      "cell_type": "code",
      "metadata": {
        "id": "AUtS9VI109Te"
      },
      "source": [
        ""
      ],
      "execution_count": null,
      "outputs": []
    },
    {
      "cell_type": "markdown",
      "metadata": {
        "id": "SGdwjluG2FPp"
      },
      "source": [
        "**[Problem 2] Array combination**"
      ]
    },
    {
      "cell_type": "code",
      "metadata": {
        "colab": {
          "base_uri": "https://localhost:8080/"
        },
        "id": "DZuaWY7t2IOD",
        "outputId": "7e3fd302-3e6d-454b-8ec8-3838fb399afc"
      },
      "source": [
        "nd = np.concatenate((X, Y))\n",
        "#print(nd)\n",
        "\n",
        "nd = np.reshape(nd, (101, 2), order='F')\n",
        "print(nd)"
      ],
      "execution_count": null,
      "outputs": [
        {
          "output_type": "stream",
          "text": [
            "[[-50.  -24. ]\n",
            " [-49.  -23.5]\n",
            " [-48.  -23. ]\n",
            " [-47.  -22.5]\n",
            " [-46.  -22. ]\n",
            " [-45.  -21.5]\n",
            " [-44.  -21. ]\n",
            " [-43.  -20.5]\n",
            " [-42.  -20. ]\n",
            " [-41.  -19.5]\n",
            " [-40.  -19. ]\n",
            " [-39.  -18.5]\n",
            " [-38.  -18. ]\n",
            " [-37.  -17.5]\n",
            " [-36.  -17. ]\n",
            " [-35.  -16.5]\n",
            " [-34.  -16. ]\n",
            " [-33.  -15.5]\n",
            " [-32.  -15. ]\n",
            " [-31.  -14.5]\n",
            " [-30.  -14. ]\n",
            " [-29.  -13.5]\n",
            " [-28.  -13. ]\n",
            " [-27.  -12.5]\n",
            " [-26.  -12. ]\n",
            " [-25.  -11.5]\n",
            " [-24.  -11. ]\n",
            " [-23.  -10.5]\n",
            " [-22.  -10. ]\n",
            " [-21.   -9.5]\n",
            " [-20.   -9. ]\n",
            " [-19.   -8.5]\n",
            " [-18.   -8. ]\n",
            " [-17.   -7.5]\n",
            " [-16.   -7. ]\n",
            " [-15.   -6.5]\n",
            " [-14.   -6. ]\n",
            " [-13.   -5.5]\n",
            " [-12.   -5. ]\n",
            " [-11.   -4.5]\n",
            " [-10.   -4. ]\n",
            " [ -9.   -3.5]\n",
            " [ -8.   -3. ]\n",
            " [ -7.   -2.5]\n",
            " [ -6.   -2. ]\n",
            " [ -5.   -1.5]\n",
            " [ -4.   -1. ]\n",
            " [ -3.   -0.5]\n",
            " [ -2.    0. ]\n",
            " [ -1.    0.5]\n",
            " [  0.    1. ]\n",
            " [  1.    1.5]\n",
            " [  2.    2. ]\n",
            " [  3.    2.5]\n",
            " [  4.    3. ]\n",
            " [  5.    3.5]\n",
            " [  6.    4. ]\n",
            " [  7.    4.5]\n",
            " [  8.    5. ]\n",
            " [  9.    5.5]\n",
            " [ 10.    6. ]\n",
            " [ 11.    6.5]\n",
            " [ 12.    7. ]\n",
            " [ 13.    7.5]\n",
            " [ 14.    8. ]\n",
            " [ 15.    8.5]\n",
            " [ 16.    9. ]\n",
            " [ 17.    9.5]\n",
            " [ 18.   10. ]\n",
            " [ 19.   10.5]\n",
            " [ 20.   11. ]\n",
            " [ 21.   11.5]\n",
            " [ 22.   12. ]\n",
            " [ 23.   12.5]\n",
            " [ 24.   13. ]\n",
            " [ 25.   13.5]\n",
            " [ 26.   14. ]\n",
            " [ 27.   14.5]\n",
            " [ 28.   15. ]\n",
            " [ 29.   15.5]\n",
            " [ 30.   16. ]\n",
            " [ 31.   16.5]\n",
            " [ 32.   17. ]\n",
            " [ 33.   17.5]\n",
            " [ 34.   18. ]\n",
            " [ 35.   18.5]\n",
            " [ 36.   19. ]\n",
            " [ 37.   19.5]\n",
            " [ 38.   20. ]\n",
            " [ 39.   20.5]\n",
            " [ 40.   21. ]\n",
            " [ 41.   21.5]\n",
            " [ 42.   22. ]\n",
            " [ 43.   22.5]\n",
            " [ 44.   23. ]\n",
            " [ 45.   23.5]\n",
            " [ 46.   24. ]\n",
            " [ 47.   24.5]\n",
            " [ 48.   25. ]\n",
            " [ 49.   25.5]\n",
            " [ 50.   26. ]]\n"
          ],
          "name": "stdout"
        }
      ]
    },
    {
      "cell_type": "markdown",
      "metadata": {
        "id": "iES-xXKu86Oa"
      },
      "source": [
        "**[Problem 3] Find the gradient**"
      ]
    },
    {
      "cell_type": "code",
      "metadata": {
        "colab": {
          "base_uri": "https://localhost:8080/"
        },
        "id": "Wiy811D788bE",
        "outputId": "8da71013-8421-46b5-e976-65fd798a5f11"
      },
      "source": [
        "g = []\n",
        "\n",
        "for i in range(len(nd) - 1):\n",
        "  dx = nd[i + 1][0] - nd[i][0] \n",
        "  dy = nd[i + 1][1] - nd[i][1]\n",
        "  g.append(dy / dx)\n",
        "\n",
        "grad = np.array(g)\n",
        "print(grad)\n",
        "\n"
      ],
      "execution_count": null,
      "outputs": [
        {
          "output_type": "stream",
          "text": [
            "[0.5 0.5 0.5 0.5 0.5 0.5 0.5 0.5 0.5 0.5 0.5 0.5 0.5 0.5 0.5 0.5 0.5 0.5\n",
            " 0.5 0.5 0.5 0.5 0.5 0.5 0.5 0.5 0.5 0.5 0.5 0.5 0.5 0.5 0.5 0.5 0.5 0.5\n",
            " 0.5 0.5 0.5 0.5 0.5 0.5 0.5 0.5 0.5 0.5 0.5 0.5 0.5 0.5 0.5 0.5 0.5 0.5\n",
            " 0.5 0.5 0.5 0.5 0.5 0.5 0.5 0.5 0.5 0.5 0.5 0.5 0.5 0.5 0.5 0.5 0.5 0.5\n",
            " 0.5 0.5 0.5 0.5 0.5 0.5 0.5 0.5 0.5 0.5 0.5 0.5 0.5 0.5 0.5 0.5 0.5 0.5\n",
            " 0.5 0.5 0.5 0.5 0.5 0.5 0.5 0.5 0.5 0.5]\n"
          ],
          "name": "stdout"
        }
      ]
    },
    {
      "cell_type": "markdown",
      "metadata": {
        "id": "OJrpzoBz-0b-"
      },
      "source": [
        "**[Problem 4] Draw a graph**"
      ]
    },
    {
      "cell_type": "code",
      "metadata": {
        "colab": {
          "base_uri": "https://localhost:8080/",
          "height": 329
        },
        "id": "BxnTIcBV-1ex",
        "outputId": "b3b8ad16-1687-4fbe-b773-151fb4e9f3f5"
      },
      "source": [
        "import matplotlib.pyplot as plt\n",
        "\n",
        "x = X[0:-1]\n",
        "y = grad\n",
        "\n",
        "print(len(x))\n",
        "print(len(y))\n",
        "\n",
        "plt.plot(x, y, '-r', label='gradient')\n",
        "plt.title('Graph of gradient')\n",
        "plt.xlabel('x', color='#1C2833')\n",
        "plt.ylabel('y', color='#1C2833')\n",
        "plt.legend(loc='upper left')\n",
        "plt.grid()\n",
        "plt.show()"
      ],
      "execution_count": null,
      "outputs": [
        {
          "output_type": "stream",
          "text": [
            "100\n",
            "100\n"
          ],
          "name": "stdout"
        },
        {
          "output_type": "display_data",
          "data": {
            "image/png": "[encoded data removed]",
            "text/plain": [
              "<Figure size 432x288 with 1 Axes>"
            ]
          },
          "metadata": {
            "tags": [],
            "needs_background": "light"
          }
        }
      ]
    },
    {
      "cell_type": "markdown",
      "metadata": {
        "id": "Wbmj1pq9AmRy"
      },
      "source": [
        "**[Problem 5] Python functionalization**"
      ]
    },
    {
      "cell_type": "code",
      "metadata": {
        "colab": {
          "base_uri": "https://localhost:8080/"
        },
        "id": "vCFRvC9BBGXL",
        "outputId": "c2590051-57cc-446f-8be2-efab54be8839"
      },
      "source": [
        "import numpy as np\n",
        "\n",
        "\"\"\"\n",
        "    Calculate the gradient using the amount of change.\n",
        "    Parameters\n",
        "    ----------------\n",
        "    function : function\n",
        "      The function you want to find, the one that returns the ndarray of y when you put the ndarray of x.\n",
        "    x_range : tuple\n",
        "      Specify the range in the same way as the argument of np.arange ().\n",
        "    Returns\n",
        "    ----------------\n",
        "    array_xy : ndarray, shape(n, 2)\n",
        "      A combination of x and y. n depends on x_range.\n",
        "    gradient : ndarray, shape(n-1,)\n",
        "      Function gradient. One factor is reduced to make a difference\n",
        "    \"\"\"\n",
        "def compute_gradient(function, x_range=(-50, 50.1, 0.1)):\n",
        "  array_y = function(x_range)\n",
        "  nd = np.concatenate((x_range, array_y))\n",
        "  array_xy = np.reshape(nd, (len(x_range), 2), order='F')\n",
        "\n",
        "  g = []\n",
        "\n",
        "  for i in range(len(array_xy) - 1):\n",
        "    dx = array_xy[i + 1][0] - array_xy[i][0] \n",
        "    dy = array_xy[i + 1][1] - array_xy[i][1]\n",
        "    g.append(dy / dx)\n",
        "\n",
        "  gradient = np.array(g)\n",
        "\n",
        "  pass\n",
        "  return array_xy, gradient\n",
        "\n",
        "def function1(x_range):\n",
        "  y = []\n",
        "  for v in x_range:\n",
        "    y.append(v * v)\n",
        "\n",
        "  array_y = np.array(y)\n",
        "  pass\n",
        "  return array_y\n",
        "\n",
        "def function2(x_range):\n",
        "  y = []\n",
        "  for v in x_range:\n",
        "    y.append(2 * v * v + 2**v)\n",
        "\n",
        "  array_y = np.array(y)\n",
        "  pass\n",
        "  return array_y\n",
        "\n",
        "def function3(x_range):\n",
        "  y = []\n",
        "  for v in x_range:\n",
        "    y.append(np.sin(v**0.5))\n",
        "\n",
        "  array_y = np.array(y)\n",
        "  pass\n",
        "  return array_y\n",
        "\n",
        "print(\"---------- function1 ----------\")\n",
        "array_xy, gradient = compute_gradient(function1)\n",
        "print(\"array_xy = \", array_xy)\n",
        "print(\"gradient = \",gradient)\n",
        "\n",
        "print(\"---------- function2 ----------\")\n",
        "array_xy, gradient = compute_gradient(function2)\n",
        "print(\"array_xy = \", array_xy)\n",
        "print(\"gradient = \",gradient)\n",
        "\n",
        "print(\"---------- function3 ----------\")\n",
        "array_xy, gradient = compute_gradient(function3)\n",
        "print(\"array_xy = \", array_xy)\n",
        "print(\"gradient = \",gradient)"
      ],
      "execution_count": 29,
      "outputs": [
        {
          "output_type": "stream",
          "text": [
            "---------- function1 ----------\n",
            "array_xy =  [[-5.00000e+01  2.50000e+03]\n",
            " [ 5.01000e+01  2.51001e+03]\n",
            " [ 1.00000e-01  1.00000e-02]]\n",
            "gradient =  [ 0.1 50.2]\n",
            "---------- function2 ----------\n",
            "array_xy =  [[-5.00000000e+01  5.00000000e+03]\n",
            " [ 5.01000000e+01  1.20670964e+15]\n",
            " [ 1.00000000e-01  1.09177346e+00]]\n",
            "gradient =  [1.20550414e+13 2.41341928e+13]\n",
            "---------- function3 ----------\n",
            "array_xy =  [[-5.00000000e+01  +0.j          2.54895347e-13+588.70188026j]\n",
            " [ 5.01000000e+01  +0.j          7.13828618e-01  +0.j        ]\n",
            " [ 1.00000000e-01  +0.j          3.10983593e-01  +0.j        ]]\n",
            "gradient =  [0.00713116-5.88113766j 0.0080569 -0.j        ]\n"
          ],
          "name": "stdout"
        }
      ]
    },
    {
      "cell_type": "markdown",
      "metadata": {
        "id": "YhEyckFSMjqA"
      },
      "source": [
        "**[Problem 6] Find the minimum value**"
      ]
    },
    {
      "cell_type": "code",
      "metadata": {
        "colab": {
          "base_uri": "https://localhost:8080/"
        },
        "id": "X3sqWZbLMmMN",
        "outputId": "cc2be013-a247-4bcd-d0df-41ac78099197"
      },
      "source": [
        "import numpy as np\n",
        "\n",
        "\"\"\"\n",
        "    Calculate the gradient using the amount of change.\n",
        "    Parameters\n",
        "    ----------------\n",
        "    function : function\n",
        "      The function you want to find, the one that returns the ndarray of y when you put the ndarray of x.\n",
        "    x_range : tuple\n",
        "      Specify the range in the same way as the argument of np.arange ().\n",
        "    Returns\n",
        "    ----------------\n",
        "    array_xy : ndarray, shape(n, 2)\n",
        "      A combination of x and y. n depends on x_range.\n",
        "    gradient : ndarray, shape(n-1,)\n",
        "      Function gradient. One factor is reduced to make a difference\n",
        "    \"\"\"\n",
        "def compute_gradient(function, x_range=(-50, 50.1, 0.1)):\n",
        "  array_y = function(x_range)\n",
        "\n",
        "  print(\"array_y.min = \", array_y.min(axis=0))\n",
        "  print(\"array_y.argmin = \", array_y.argmin(axis=0))\n",
        "\n",
        "  nd = np.concatenate((x_range, array_y))\n",
        "  array_xy = np.reshape(nd, (len(x_range), 2), order='F')\n",
        "\n",
        "  g = []\n",
        "\n",
        "  for i in range(len(array_xy) - 1):\n",
        "    dx = array_xy[i + 1][0] - array_xy[i][0] \n",
        "    dy = array_xy[i + 1][1] - array_xy[i][1]\n",
        "    g.append(dy / dx)\n",
        "\n",
        "  gradient = np.array(g)\n",
        "\n",
        "  pass\n",
        "  return array_xy, gradient\n",
        "\n",
        "def function1(x_range):\n",
        "  y = []\n",
        "  for v in x_range:\n",
        "    y.append(v * v)\n",
        "\n",
        "  array_y = np.array(y)\n",
        "  pass\n",
        "  return array_y\n",
        "\n",
        "def function2(x_range):\n",
        "  y = []\n",
        "  for v in x_range:\n",
        "    y.append(2 * v * v + 2**v)\n",
        "\n",
        "  array_y = np.array(y)\n",
        "  pass\n",
        "  return array_y\n",
        "\n",
        "def function3(x_range):\n",
        "  y = []\n",
        "  for v in x_range:\n",
        "    y.append(np.sin(v**0.5))\n",
        "\n",
        "  array_y = np.array(y)\n",
        "  pass\n",
        "  return array_y\n",
        "\n",
        "print(\"---------- function1 ----------\")\n",
        "array_xy, gradient = compute_gradient(function1)\n",
        "print(\"array_xy = \", array_xy)\n",
        "print(\"gradient = \",gradient)\n",
        "\n",
        "print(\"---------- function2 ----------\")\n",
        "array_xy, gradient = compute_gradient(function2)\n",
        "print(\"array_xy = \", array_xy)\n",
        "print(\"gradient = \",gradient)\n",
        "\n",
        "print(\"---------- function3 ----------\")\n",
        "array_xy, gradient = compute_gradient(function3)\n",
        "print(\"array_xy = \", array_xy)\n",
        "print(\"gradient = \",gradient)"
      ],
      "execution_count": 31,
      "outputs": [
        {
          "output_type": "stream",
          "text": [
            "---------- function1 ----------\n",
            "array_y.min =  0.010000000000000002\n",
            "array_y.argmin =  2\n",
            "array_xy =  [[-5.00000e+01  2.50000e+03]\n",
            " [ 5.01000e+01  2.51001e+03]\n",
            " [ 1.00000e-01  1.00000e-02]]\n",
            "gradient =  [ 0.1 50.2]\n",
            "---------- function2 ----------\n",
            "array_y.min =  1.0917734625362931\n",
            "array_y.argmin =  2\n",
            "array_xy =  [[-5.00000000e+01  5.00000000e+03]\n",
            " [ 5.01000000e+01  1.20670964e+15]\n",
            " [ 1.00000000e-01  1.09177346e+00]]\n",
            "gradient =  [1.20550414e+13 2.41341928e+13]\n",
            "---------- function3 ----------\n",
            "array_y.min =  (2.548953470043686e-13+588.7018802618827j)\n",
            "array_y.argmin =  0\n",
            "array_xy =  [[-5.00000000e+01  +0.j          2.54895347e-13+588.70188026j]\n",
            " [ 5.01000000e+01  +0.j          7.13828618e-01  +0.j        ]\n",
            " [ 1.00000000e-01  +0.j          3.10983593e-01  +0.j        ]]\n",
            "gradient =  [0.00713116-5.88113766j 0.0080569 -0.j        ]\n"
          ],
          "name": "stdout"
        }
      ]
    },
    {
      "cell_type": "code",
      "metadata": {
        "id": "vHVA-3yg2yC3"
      },
      "source": [
        ""
      ],
      "execution_count": null,
      "outputs": []
    }
  ]
}