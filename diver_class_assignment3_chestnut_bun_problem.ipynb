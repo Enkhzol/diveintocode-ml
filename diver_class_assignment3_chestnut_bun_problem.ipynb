{
  "nbformat": 4,
  "nbformat_minor": 0,
  "metadata": {
    "colab": {
      "name": "diver_class_assignment3_chestnut_bun_problem.ipynb",
      "provenance": [],
      "collapsed_sections": [],
      "authorship_tag": "ABX9TyPSdyLFGmNXWW6i6d8UAiAy",
      "include_colab_link": true
    },
    "kernelspec": {
      "name": "python3",
      "display_name": "Python 3"
    },
    "accelerator": "GPU"
  },
  "cells": [
    {
      "cell_type": "markdown",
      "metadata": {
        "id": "view-in-github",
        "colab_type": "text"
      },
      "source": [
        "<a href=\"https://colab.research.google.com/github/Enkhzol/diveintocode-ml/blob/master/diver_class_assignment3_chestnut_bun_problem.ipynb\" target=\"_parent\"><img src=\"https://colab.research.google.com/assets/colab-badge.svg\" alt=\"Open In Colab\"/></a>"
      ]
    },
    {
      "cell_type": "code",
      "metadata": {
        "id": "lGkn5Sje2Sje"
      },
      "source": [
        ""
      ],
      "execution_count": null,
      "outputs": []
    },
    {
      "cell_type": "markdown",
      "metadata": {
        "id": "WAH55T4q2cdG"
      },
      "source": [
        "**[Problem] The day when chestnut buns cover the solar system**"
      ]
    },
    {
      "cell_type": "code",
      "metadata": {
        "colab": {
          "base_uri": "https://localhost:8080/"
        },
        "id": "TT295V_r2hGt",
        "outputId": "02e27524-79e0-4cb1-c965-e70fa636a3ba"
      },
      "source": [
        "import math\r\n",
        "\r\n",
        "radius_chestnut_bun = 0.00002 # km\r\n",
        "\r\n",
        "# Sun volume case:\r\n",
        "sun_volume = 1409 * 10**15 # cubic km\r\n",
        "\r\n",
        "def calculate_sphere_volume(radius):\r\n",
        "  volume = 4 / 3 * math.pi * radius **3 \r\n",
        "  return volume\r\n",
        "\r\n",
        "chestnut_bun_volume = calculate_sphere_volume(radius_chestnut_bun)\r\n",
        "\r\n",
        "print(\"chestnut_bun_volume = \", chestnut_bun_volume)\r\n",
        "\r\n",
        "getting_bigger_chestnut_volume = chestnut_bun_volume\r\n",
        "\r\n",
        "is_exceed = False\r\n",
        "minutes = 5 # min\r\n",
        "i = 1 # count 5 min\r\n",
        "while not is_exceed:\r\n",
        "  getting_bigger_chestnut_volume = getting_bigger_chestnut_volume * 2\r\n",
        "  minutes = minutes * i\r\n",
        "  i = i + 1\r\n",
        "  if getting_bigger_chestnut_volume >= sun_volume :\r\n",
        "    is_exceed = True\r\n",
        "    break\r\n",
        "    \r\n",
        "\r\n",
        "years = minutes / (60 * 24 * 365)\r\n",
        "\r\n",
        "print(\"Required years, exceeds sun volume: \", years)"
      ],
      "execution_count": 7,
      "outputs": [
        {
          "output_type": "stream",
          "text": [
            "chestnut_bun_volume =  3.351032163829113e-14\n",
            "Required years, exceeds sun volume:  1.0904495469318001e+165\n"
          ],
          "name": "stdout"
        }
      ]
    },
    {
      "cell_type": "code",
      "metadata": {
        "id": "UTOsI2Kb5R1h"
      },
      "source": [
        ""
      ],
      "execution_count": null,
      "outputs": []
    }
  ]
}