{
  "nbformat": 4,
  "nbformat_minor": 0,
  "metadata": {
    "colab": {
      "name": "diver_class_assignment13_UtilizationObjectOrientation.ipynb.ipynb",
      "provenance": [],
      "authorship_tag": "ABX9TyMCpQtXBRYFyvgDwA0BrNVA",
      "include_colab_link": true
    },
    "kernelspec": {
      "name": "python3",
      "display_name": "Python 3"
    },
    "language_info": {
      "name": "python"
    }
  },
  "cells": [
    {
      "cell_type": "markdown",
      "metadata": {
        "id": "view-in-github",
        "colab_type": "text"
      },
      "source": [
        "<a href=\"https://colab.research.google.com/github/Enkhzol/diveintocode-ml/blob/master/diver_class_assignment13_UtilizationObjectOrientation_ipynb.ipynb\" target=\"_parent\"><img src=\"https://colab.research.google.com/assets/colab-badge.svg\" alt=\"Open In Colab\"/></a>"
      ]
    },
    {
      "cell_type": "markdown",
      "metadata": {
        "id": "4lkCA1q7rDRB"
      },
      "source": [
        "**[Problem 1] Enumeration of classes used so far**"
      ]
    },
    {
      "cell_type": "code",
      "metadata": {
        "colab": {
          "base_uri": "https://localhost:8080/"
        },
        "id": "pZECIqsJrbhj",
        "outputId": "85d97e71-40cd-47c9-82a9-d21f9aa2aee6"
      },
      "source": [
        "import numpy as np\n",
        "from sklearn.preprocessing import StandardScaler\n",
        "from sklearn.datasets import load_iris\n",
        "data = load_iris()\n",
        "X = data.data[:10]\n",
        "scaler = StandardScaler()\n",
        "scaler.fit(X)\n",
        "print(\"Mean :\", scaler.mean_)\n",
        "print(\"Variance :\", scaler.var_)\n",
        "X_std = scaler.transform(X)"
      ],
      "execution_count": 1,
      "outputs": [
        {
          "output_type": "stream",
          "name": "stdout",
          "text": [
            "Mean : [4.86 3.31 1.45 0.22]\n",
            "Variance : [0.0764 0.0849 0.0105 0.0056]\n"
          ]
        }
      ]
    },
    {
      "cell_type": "code",
      "metadata": {
        "colab": {
          "base_uri": "https://localhost:8080/"
        },
        "id": "p7bWdN6FtIAQ",
        "outputId": "242adee2-5d23-4a05-f38c-64e1c2bfee5b"
      },
      "source": [
        "# Pandas\n",
        "import pandas as pd\n",
        "import inspect\n",
        "\n",
        "classes = list(map(lambda x:x[0], inspect.getmembers(pd, inspect.isclass)))\n",
        "classes[:5]"
      ],
      "execution_count": 2,
      "outputs": [
        {
          "output_type": "execute_result",
          "data": {
            "text/plain": [
              "['BooleanDtype',\n",
              " 'Categorical',\n",
              " 'CategoricalDtype',\n",
              " 'CategoricalIndex',\n",
              " 'DataFrame']"
            ]
          },
          "metadata": {},
          "execution_count": 2
        }
      ]
    },
    {
      "cell_type": "code",
      "metadata": {
        "colab": {
          "base_uri": "https://localhost:8080/"
        },
        "id": "AYlJx1QPtQV2",
        "outputId": "dfcf3183-7791-47f6-924c-32edf0cfd5d1"
      },
      "source": [
        "# matplotlib\n",
        "import matplotlib\n",
        "classes = list(map(lambda x:x[0], inspect.getmembers(matplotlib, inspect.isclass)))\n",
        "classes[:5]"
      ],
      "execution_count": 3,
      "outputs": [
        {
          "output_type": "execute_result",
          "data": {
            "text/plain": [
              "['ExecutableNotFoundError',\n",
              " 'LooseVersion',\n",
              " 'MatplotlibDeprecationWarning',\n",
              " 'MutableMapping',\n",
              " 'Parameter']"
            ]
          },
          "metadata": {},
          "execution_count": 3
        }
      ]
    },
    {
      "cell_type": "code",
      "metadata": {
        "colab": {
          "base_uri": "https://localhost:8080/"
        },
        "id": "rXlaVsM_tUX6",
        "outputId": "b495da51-a953-448e-b67e-1296357b68cd"
      },
      "source": [
        "# Show all methods\n",
        "dir(scaler)"
      ],
      "execution_count": 4,
      "outputs": [
        {
          "output_type": "execute_result",
          "data": {
            "text/plain": [
              "['__class__',\n",
              " '__delattr__',\n",
              " '__dict__',\n",
              " '__dir__',\n",
              " '__doc__',\n",
              " '__eq__',\n",
              " '__format__',\n",
              " '__ge__',\n",
              " '__getattribute__',\n",
              " '__getstate__',\n",
              " '__gt__',\n",
              " '__hash__',\n",
              " '__init__',\n",
              " '__init_subclass__',\n",
              " '__le__',\n",
              " '__lt__',\n",
              " '__module__',\n",
              " '__ne__',\n",
              " '__new__',\n",
              " '__reduce__',\n",
              " '__reduce_ex__',\n",
              " '__repr__',\n",
              " '__setattr__',\n",
              " '__setstate__',\n",
              " '__sizeof__',\n",
              " '__str__',\n",
              " '__subclasshook__',\n",
              " '__weakref__',\n",
              " '_get_param_names',\n",
              " '_get_tags',\n",
              " '_more_tags',\n",
              " '_reset',\n",
              " 'copy',\n",
              " 'fit',\n",
              " 'fit_transform',\n",
              " 'get_params',\n",
              " 'inverse_transform',\n",
              " 'mean_',\n",
              " 'n_samples_seen_',\n",
              " 'partial_fit',\n",
              " 'scale_',\n",
              " 'set_params',\n",
              " 'transform',\n",
              " 'var_',\n",
              " 'with_mean',\n",
              " 'with_std']"
            ]
          },
          "metadata": {},
          "execution_count": 4
        }
      ]
    },
    {
      "cell_type": "markdown",
      "metadata": {
        "id": "JdWOnSqqtcwa"
      },
      "source": [
        "**[Problem 2] Enumeration of methods and instance variables used so far**"
      ]
    },
    {
      "cell_type": "markdown",
      "metadata": {
        "id": "ACmrfi_XtrWi"
      },
      "source": [
        "Method:\n",
        "\n",
        "* ndarray.sum()\n",
        "* pandas.DataFrame.groupby()\n",
        "* range()\n",
        "* zip()\n",
        "* matplotlib.pyplot.scatter\n",
        "\n",
        "Instance variables:\n",
        "* ndarray.shape\n",
        "* pandas.DataFrame.columns\n",
        "* pandas.DataFrame.index\n",
        "* ndarray.dtype\n",
        "* ndarray.T"
      ]
    },
    {
      "cell_type": "markdown",
      "metadata": {
        "id": "vPQ8Dirwt8v_"
      },
      "source": [
        "**[Problem 3] Creating a standardized class by scratch**"
      ]
    },
    {
      "cell_type": "code",
      "metadata": {
        "id": "9Ew3057ItXUy"
      },
      "source": [
        "class ScratchStandardScaler():\n",
        "    \"\"\"\n",
        "    Class for standardization\n",
        "\n",
        "    Attributes\n",
        "\n",
        "    mean_: ndarray, shape (n_features,) of the following form\n",
        "    average\n",
        "\n",
        "    var_: ndarray, shape (n_features,) of the following form\n",
        "    Distributed\n",
        "    \"\"\"\n",
        "    def fit(self, X):\n",
        "        \"\"\"\n",
        "        Calculate the mean and standard deviation for standardization.\n",
        "\n",
        "        Parameters\n",
        "\n",
        "        X: ndarray, shape (n_samples, n_features) of the following form\n",
        "        Training data\n",
        "        \"\"\"\n",
        "        self.mean_ = X.mean(axis=0)\n",
        "        self.var_ = X.var(axis=0)\n",
        "        \n",
        "    def transform(self, X):\n",
        "        \"\"\"\n",
        "       Standardize using the value obtained by fit.\n",
        "\n",
        "        Parameters\n",
        "\n",
        "        X: ndarray, shape (n_samples, n_features) of the following form\n",
        "        Feature value\n",
        "\n",
        "        Returns\n",
        "\n",
        "        X_scaled: ndarray, shape (n_samples, n_features) of the following form\n",
        "        Standardized special amount\n",
        "        \"\"\"\n",
        "        # Explanatory variable-mean of that column / square root of standard deviation of each column\n",
        "        X_scaled = (X - self.mean_) / np.sqrt(self.var_)\n",
        "        return X_scaled"
      ],
      "execution_count": 5,
      "outputs": []
    },
    {
      "cell_type": "code",
      "metadata": {
        "colab": {
          "base_uri": "https://localhost:8080/"
        },
        "id": "HEZYxu5BukQH",
        "outputId": "2f99e465-b3c9-49a2-a44b-eefb1722c491"
      },
      "source": [
        "scratch_scaler = ScratchStandardScaler()\n",
        "scratch_scaler.fit(X)\n",
        "print(\"Mean :\", scratch_scaler.mean_)\n",
        "print(\"Vanriance :\", scratch_scaler.var_)\n",
        "X_std = scratch_scaler.transform(X)\n",
        "print(X_std)\n",
        "\n",
        "print('X_std mean: {:.1f}, variance: {:.1f}'.format(X_std.mean(), X_std.var()))"
      ],
      "execution_count": 6,
      "outputs": [
        {
          "output_type": "stream",
          "name": "stdout",
          "text": [
            "Mean : [4.86 3.31 1.45 0.22]\n",
            "Vanriance : [0.0764 0.0849 0.0105 0.0056]\n",
            "[[ 0.86828953  0.65207831 -0.48795004 -0.26726124]\n",
            " [ 0.14471492 -1.06391725 -0.48795004 -0.26726124]\n",
            " [-0.57885968 -0.37751902 -1.46385011 -0.26726124]\n",
            " [-0.94064699 -0.72071813  0.48795004 -0.26726124]\n",
            " [ 0.50650222  0.99527742 -0.48795004 -0.26726124]\n",
            " [ 1.95365143  2.02487476  2.43975018  2.40535118]\n",
            " [-0.94064699  0.3088792  -0.48795004  1.06904497]\n",
            " [ 0.50650222  0.3088792   0.48795004 -0.26726124]\n",
            " [-1.66422159 -1.40711636 -0.48795004 -0.26726124]\n",
            " [ 0.14471492 -0.72071813  0.48795004 -1.60356745]]\n",
            "X_std mean: 0.0, variance: 1.0\n"
          ]
        }
      ]
    },
    {
      "cell_type": "code",
      "metadata": {
        "colab": {
          "base_uri": "https://localhost:8080/"
        },
        "id": "OYXHgwI1unTh",
        "outputId": "ec325a0c-177d-415a-8d55-6a6d627e8963"
      },
      "source": [
        "# Compare with Standard library\n",
        "scaler = StandardScaler()\n",
        "scaler.fit(X)\n",
        "print(\"Mean :\", scaler.mean_)\n",
        "print(\"Vanriance :\", scaler.var_)\n",
        "X_std = scaler.transform(X)\n",
        "print(X_std)\n",
        "print('X_std mean: {:.1f}, variance: {:.1f}'.format(X_std.mean(), X_std.var()))"
      ],
      "execution_count": 7,
      "outputs": [
        {
          "output_type": "stream",
          "name": "stdout",
          "text": [
            "Mean : [4.86 3.31 1.45 0.22]\n",
            "Vanriance : [0.0764 0.0849 0.0105 0.0056]\n",
            "[[ 0.86828953  0.65207831 -0.48795004 -0.26726124]\n",
            " [ 0.14471492 -1.06391725 -0.48795004 -0.26726124]\n",
            " [-0.57885968 -0.37751902 -1.46385011 -0.26726124]\n",
            " [-0.94064699 -0.72071813  0.48795004 -0.26726124]\n",
            " [ 0.50650222  0.99527742 -0.48795004 -0.26726124]\n",
            " [ 1.95365143  2.02487476  2.43975018  2.40535118]\n",
            " [-0.94064699  0.3088792  -0.48795004  1.06904497]\n",
            " [ 0.50650222  0.3088792   0.48795004 -0.26726124]\n",
            " [-1.66422159 -1.40711636 -0.48795004 -0.26726124]\n",
            " [ 0.14471492 -0.72071813  0.48795004 -1.60356745]]\n",
            "X_std mean: 0.0, variance: 1.0\n"
          ]
        }
      ]
    },
    {
      "cell_type": "markdown",
      "metadata": {
        "id": "AYmBkazIuwUs"
      },
      "source": [
        "**[Problem 4] Creating a class that performs 4 arithmetic operations**\n",
        "\n",
        "The above ExampleClass has an addition method, but please add subtraction, multiplication, and division methods to it.\n",
        "\n",
        "\n",
        "If the value entered into the constructor is a non-numeric value such as a string or an array, an error should be raised.\n",
        "\n",
        "\n",
        "The class name and description should also be rewritten appropriately."
      ]
    },
    {
      "cell_type": "code",
      "metadata": {
        "colab": {
          "base_uri": "https://localhost:8080/"
        },
        "id": "vKj6ZNuZus4r",
        "outputId": "bcc84749-cbbd-4e18-acdd-a34b35783c8f"
      },
      "source": [
        "class ArithmeticOperation():\n",
        "    def __init__(self, value):\n",
        "        assert type(value) in [int,float], \"Please input Int or Float\"\n",
        "        self.value = value\n",
        "        print(\"The initial value {} has been set\".format(self.value))\n",
        "    def add(self, value):\n",
        "        \"\"\"\n",
        "        Add the received argument to self.value\n",
        "        \"\"\"\n",
        "        assert type(value) in [int,float], \"Please input Int or Float\"\n",
        "        self.value += value\n",
        "\n",
        "    def sub(self, value):\n",
        "        \"\"\"\n",
        "        Subtract the received argument to self.value\n",
        "        \"\"\"\n",
        "        assert type(value) in [int,float], \"Please input Int or Float\"\n",
        "        self.value -= value\n",
        "    def mul(self, value):\n",
        "        \"\"\"\n",
        "        Multiply the received argument to self.value\n",
        "        \"\"\"\n",
        "        assert type(value) in [int,float], \"Please input Int or Float\"\n",
        "        self.value *= value\n",
        "\n",
        "    def div(self, value):\n",
        "        \"\"\"\n",
        "        Divide the received argument to self.value\n",
        "        \"\"\"\n",
        "        assert type(value) in [int,float], \"Please input Int or Float\"\n",
        "        self.value /= value\n",
        "\n",
        "example = ArithmeticOperation(5)\n",
        "\n",
        "print(\"value+3: {}\".format(example.value))\n",
        "example.sub(4)\n",
        "print(\"value-4: {}\".format(example.value))\n",
        "example.mul(2)\n",
        "print(\"value*2: {}\".format(example.value))\n",
        "example.div(3)\n",
        "print(\"value/3: {}\".format(example.value))"
      ],
      "execution_count": 8,
      "outputs": [
        {
          "output_type": "stream",
          "name": "stdout",
          "text": [
            "The initial value 5 has been set\n",
            "value+3: 5\n",
            "value-4: 1\n",
            "value*2: 2\n",
            "value/3: 0.6666666666666666\n"
          ]
        }
      ]
    }
  ]
}